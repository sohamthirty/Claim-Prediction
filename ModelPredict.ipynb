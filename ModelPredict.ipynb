{
 "cells": [
  {
   "cell_type": "markdown",
   "id": "ee302a84",
   "metadata": {},
   "source": [
    "## Importing the libraries"
   ]
  },
  {
   "cell_type": "code",
   "execution_count": 2,
   "id": "2cc8e876",
   "metadata": {},
   "outputs": [],
   "source": [
    "import numpy as np\n",
    "import matplotlib.pyplot as plt\n",
    "import pandas as pd\n",
    "import pickle\n",
    "from sklearn.preprocessing import StandardScaler\n",
    "from sklearn.model_selection import train_test_split"
   ]
  },
  {
   "cell_type": "markdown",
   "id": "de85a398",
   "metadata": {},
   "source": [
    "## Import Data"
   ]
  },
  {
   "cell_type": "code",
   "execution_count": 3,
   "id": "4b104244",
   "metadata": {},
   "outputs": [],
   "source": [
    "df_smoteen= pd.read_csv('Data/data_smoteen.csv')  "
   ]
  },
  {
   "cell_type": "code",
   "execution_count": 176,
   "id": "68000236",
   "metadata": {},
   "outputs": [
    {
     "data": {
      "text/plain": [
       "(112302, 31)"
      ]
     },
     "execution_count": 176,
     "metadata": {},
     "output_type": "execute_result"
    }
   ],
   "source": [
    "df_smoteen.shape"
   ]
  },
  {
   "cell_type": "code",
   "execution_count": 177,
   "id": "5a2d76d3",
   "metadata": {},
   "outputs": [
    {
     "data": {
      "text/html": [
       "<div>\n",
       "<style scoped>\n",
       "    .dataframe tbody tr th:only-of-type {\n",
       "        vertical-align: middle;\n",
       "    }\n",
       "\n",
       "    .dataframe tbody tr th {\n",
       "        vertical-align: top;\n",
       "    }\n",
       "\n",
       "    .dataframe thead th {\n",
       "        text-align: right;\n",
       "    }\n",
       "</style>\n",
       "<table border=\"1\" class=\"dataframe\">\n",
       "  <thead>\n",
       "    <tr style=\"text-align: right;\">\n",
       "      <th></th>\n",
       "      <th>Agency Type</th>\n",
       "      <th>Distribution Channel</th>\n",
       "      <th>Duration</th>\n",
       "      <th>Net Sales</th>\n",
       "      <th>Commision (in value)</th>\n",
       "      <th>Age</th>\n",
       "      <th>Agency_CWT</th>\n",
       "      <th>Agency_EPX</th>\n",
       "      <th>Agency_OTH</th>\n",
       "      <th>Product Name_2 way Comprehensive Plan</th>\n",
       "      <th>...</th>\n",
       "      <th>Destination_MALAYSIA</th>\n",
       "      <th>Destination_OTHER</th>\n",
       "      <th>Destination_PHILIPPINES</th>\n",
       "      <th>Destination_SINGAPORE</th>\n",
       "      <th>Destination_TAIWAN, PROVINCE OF CHINA</th>\n",
       "      <th>Destination_THAILAND</th>\n",
       "      <th>Destination_UNITED KINGDOM</th>\n",
       "      <th>Destination_UNITED STATES</th>\n",
       "      <th>Destination_VIET NAM</th>\n",
       "      <th>Claim</th>\n",
       "    </tr>\n",
       "  </thead>\n",
       "  <tbody>\n",
       "    <tr>\n",
       "      <th>0</th>\n",
       "      <td>1</td>\n",
       "      <td>0</td>\n",
       "      <td>186</td>\n",
       "      <td>-29.000000</td>\n",
       "      <td>9.570000</td>\n",
       "      <td>81</td>\n",
       "      <td>0</td>\n",
       "      <td>0</td>\n",
       "      <td>1</td>\n",
       "      <td>0</td>\n",
       "      <td>...</td>\n",
       "      <td>1</td>\n",
       "      <td>0</td>\n",
       "      <td>0</td>\n",
       "      <td>0</td>\n",
       "      <td>0</td>\n",
       "      <td>0</td>\n",
       "      <td>0</td>\n",
       "      <td>0</td>\n",
       "      <td>0</td>\n",
       "      <td>0</td>\n",
       "    </tr>\n",
       "    <tr>\n",
       "      <th>1</th>\n",
       "      <td>1</td>\n",
       "      <td>0</td>\n",
       "      <td>186</td>\n",
       "      <td>-29.000000</td>\n",
       "      <td>9.570000</td>\n",
       "      <td>71</td>\n",
       "      <td>0</td>\n",
       "      <td>0</td>\n",
       "      <td>1</td>\n",
       "      <td>0</td>\n",
       "      <td>...</td>\n",
       "      <td>1</td>\n",
       "      <td>0</td>\n",
       "      <td>0</td>\n",
       "      <td>0</td>\n",
       "      <td>0</td>\n",
       "      <td>0</td>\n",
       "      <td>0</td>\n",
       "      <td>0</td>\n",
       "      <td>0</td>\n",
       "      <td>0</td>\n",
       "    </tr>\n",
       "    <tr>\n",
       "      <th>2</th>\n",
       "      <td>1</td>\n",
       "      <td>1</td>\n",
       "      <td>65</td>\n",
       "      <td>-49.500000</td>\n",
       "      <td>29.700000</td>\n",
       "      <td>32</td>\n",
       "      <td>1</td>\n",
       "      <td>0</td>\n",
       "      <td>0</td>\n",
       "      <td>0</td>\n",
       "      <td>...</td>\n",
       "      <td>0</td>\n",
       "      <td>0</td>\n",
       "      <td>0</td>\n",
       "      <td>0</td>\n",
       "      <td>0</td>\n",
       "      <td>0</td>\n",
       "      <td>0</td>\n",
       "      <td>0</td>\n",
       "      <td>0</td>\n",
       "      <td>0</td>\n",
       "    </tr>\n",
       "    <tr>\n",
       "      <th>3</th>\n",
       "      <td>1</td>\n",
       "      <td>1</td>\n",
       "      <td>60</td>\n",
       "      <td>-39.600000</td>\n",
       "      <td>23.760000</td>\n",
       "      <td>32</td>\n",
       "      <td>1</td>\n",
       "      <td>0</td>\n",
       "      <td>0</td>\n",
       "      <td>0</td>\n",
       "      <td>...</td>\n",
       "      <td>0</td>\n",
       "      <td>0</td>\n",
       "      <td>0</td>\n",
       "      <td>0</td>\n",
       "      <td>0</td>\n",
       "      <td>0</td>\n",
       "      <td>0</td>\n",
       "      <td>0</td>\n",
       "      <td>0</td>\n",
       "      <td>0</td>\n",
       "    </tr>\n",
       "    <tr>\n",
       "      <th>4</th>\n",
       "      <td>1</td>\n",
       "      <td>1</td>\n",
       "      <td>79</td>\n",
       "      <td>-19.800000</td>\n",
       "      <td>11.880000</td>\n",
       "      <td>41</td>\n",
       "      <td>1</td>\n",
       "      <td>0</td>\n",
       "      <td>0</td>\n",
       "      <td>0</td>\n",
       "      <td>...</td>\n",
       "      <td>0</td>\n",
       "      <td>1</td>\n",
       "      <td>0</td>\n",
       "      <td>0</td>\n",
       "      <td>0</td>\n",
       "      <td>0</td>\n",
       "      <td>0</td>\n",
       "      <td>0</td>\n",
       "      <td>0</td>\n",
       "      <td>0</td>\n",
       "    </tr>\n",
       "    <tr>\n",
       "      <th>...</th>\n",
       "      <td>...</td>\n",
       "      <td>...</td>\n",
       "      <td>...</td>\n",
       "      <td>...</td>\n",
       "      <td>...</td>\n",
       "      <td>...</td>\n",
       "      <td>...</td>\n",
       "      <td>...</td>\n",
       "      <td>...</td>\n",
       "      <td>...</td>\n",
       "      <td>...</td>\n",
       "      <td>...</td>\n",
       "      <td>...</td>\n",
       "      <td>...</td>\n",
       "      <td>...</td>\n",
       "      <td>...</td>\n",
       "      <td>...</td>\n",
       "      <td>...</td>\n",
       "      <td>...</td>\n",
       "      <td>...</td>\n",
       "      <td>...</td>\n",
       "    </tr>\n",
       "    <tr>\n",
       "      <th>112297</th>\n",
       "      <td>0</td>\n",
       "      <td>1</td>\n",
       "      <td>365</td>\n",
       "      <td>216.000000</td>\n",
       "      <td>54.000000</td>\n",
       "      <td>37</td>\n",
       "      <td>0</td>\n",
       "      <td>0</td>\n",
       "      <td>0</td>\n",
       "      <td>0</td>\n",
       "      <td>...</td>\n",
       "      <td>0</td>\n",
       "      <td>0</td>\n",
       "      <td>0</td>\n",
       "      <td>1</td>\n",
       "      <td>0</td>\n",
       "      <td>0</td>\n",
       "      <td>0</td>\n",
       "      <td>0</td>\n",
       "      <td>0</td>\n",
       "      <td>1</td>\n",
       "    </tr>\n",
       "    <tr>\n",
       "      <th>112298</th>\n",
       "      <td>0</td>\n",
       "      <td>0</td>\n",
       "      <td>16</td>\n",
       "      <td>30.489583</td>\n",
       "      <td>10.203453</td>\n",
       "      <td>57</td>\n",
       "      <td>0</td>\n",
       "      <td>0</td>\n",
       "      <td>0</td>\n",
       "      <td>0</td>\n",
       "      <td>...</td>\n",
       "      <td>0</td>\n",
       "      <td>0</td>\n",
       "      <td>0</td>\n",
       "      <td>0</td>\n",
       "      <td>0</td>\n",
       "      <td>0</td>\n",
       "      <td>0</td>\n",
       "      <td>0</td>\n",
       "      <td>0</td>\n",
       "      <td>1</td>\n",
       "    </tr>\n",
       "    <tr>\n",
       "      <th>112299</th>\n",
       "      <td>1</td>\n",
       "      <td>1</td>\n",
       "      <td>51</td>\n",
       "      <td>79.200000</td>\n",
       "      <td>47.520000</td>\n",
       "      <td>47</td>\n",
       "      <td>1</td>\n",
       "      <td>0</td>\n",
       "      <td>0</td>\n",
       "      <td>0</td>\n",
       "      <td>...</td>\n",
       "      <td>0</td>\n",
       "      <td>1</td>\n",
       "      <td>0</td>\n",
       "      <td>0</td>\n",
       "      <td>0</td>\n",
       "      <td>0</td>\n",
       "      <td>0</td>\n",
       "      <td>0</td>\n",
       "      <td>0</td>\n",
       "      <td>1</td>\n",
       "    </tr>\n",
       "    <tr>\n",
       "      <th>112300</th>\n",
       "      <td>1</td>\n",
       "      <td>1</td>\n",
       "      <td>57</td>\n",
       "      <td>63.251113</td>\n",
       "      <td>0.000000</td>\n",
       "      <td>36</td>\n",
       "      <td>0</td>\n",
       "      <td>1</td>\n",
       "      <td>0</td>\n",
       "      <td>0</td>\n",
       "      <td>...</td>\n",
       "      <td>0</td>\n",
       "      <td>0</td>\n",
       "      <td>0</td>\n",
       "      <td>0</td>\n",
       "      <td>0</td>\n",
       "      <td>0</td>\n",
       "      <td>0</td>\n",
       "      <td>0</td>\n",
       "      <td>0</td>\n",
       "      <td>1</td>\n",
       "    </tr>\n",
       "    <tr>\n",
       "      <th>112301</th>\n",
       "      <td>0</td>\n",
       "      <td>1</td>\n",
       "      <td>364</td>\n",
       "      <td>216.000000</td>\n",
       "      <td>54.000000</td>\n",
       "      <td>30</td>\n",
       "      <td>0</td>\n",
       "      <td>0</td>\n",
       "      <td>0</td>\n",
       "      <td>0</td>\n",
       "      <td>...</td>\n",
       "      <td>0</td>\n",
       "      <td>0</td>\n",
       "      <td>0</td>\n",
       "      <td>1</td>\n",
       "      <td>0</td>\n",
       "      <td>0</td>\n",
       "      <td>0</td>\n",
       "      <td>0</td>\n",
       "      <td>0</td>\n",
       "      <td>1</td>\n",
       "    </tr>\n",
       "  </tbody>\n",
       "</table>\n",
       "<p>112302 rows × 31 columns</p>\n",
       "</div>"
      ],
      "text/plain": [
       "        Agency Type  Distribution Channel  Duration   Net Sales  \\\n",
       "0                 1                     0       186  -29.000000   \n",
       "1                 1                     0       186  -29.000000   \n",
       "2                 1                     1        65  -49.500000   \n",
       "3                 1                     1        60  -39.600000   \n",
       "4                 1                     1        79  -19.800000   \n",
       "...             ...                   ...       ...         ...   \n",
       "112297            0                     1       365  216.000000   \n",
       "112298            0                     0        16   30.489583   \n",
       "112299            1                     1        51   79.200000   \n",
       "112300            1                     1        57   63.251113   \n",
       "112301            0                     1       364  216.000000   \n",
       "\n",
       "        Commision (in value)  Age  Agency_CWT  Agency_EPX  Agency_OTH  \\\n",
       "0                   9.570000   81           0           0           1   \n",
       "1                   9.570000   71           0           0           1   \n",
       "2                  29.700000   32           1           0           0   \n",
       "3                  23.760000   32           1           0           0   \n",
       "4                  11.880000   41           1           0           0   \n",
       "...                      ...  ...         ...         ...         ...   \n",
       "112297             54.000000   37           0           0           0   \n",
       "112298             10.203453   57           0           0           0   \n",
       "112299             47.520000   47           1           0           0   \n",
       "112300              0.000000   36           0           1           0   \n",
       "112301             54.000000   30           0           0           0   \n",
       "\n",
       "        Product Name_2 way Comprehensive Plan  ...  Destination_MALAYSIA  \\\n",
       "0                                           0  ...                     1   \n",
       "1                                           0  ...                     1   \n",
       "2                                           0  ...                     0   \n",
       "3                                           0  ...                     0   \n",
       "4                                           0  ...                     0   \n",
       "...                                       ...  ...                   ...   \n",
       "112297                                      0  ...                     0   \n",
       "112298                                      0  ...                     0   \n",
       "112299                                      0  ...                     0   \n",
       "112300                                      0  ...                     0   \n",
       "112301                                      0  ...                     0   \n",
       "\n",
       "        Destination_OTHER  Destination_PHILIPPINES  Destination_SINGAPORE  \\\n",
       "0                       0                        0                      0   \n",
       "1                       0                        0                      0   \n",
       "2                       0                        0                      0   \n",
       "3                       0                        0                      0   \n",
       "4                       1                        0                      0   \n",
       "...                   ...                      ...                    ...   \n",
       "112297                  0                        0                      1   \n",
       "112298                  0                        0                      0   \n",
       "112299                  1                        0                      0   \n",
       "112300                  0                        0                      0   \n",
       "112301                  0                        0                      1   \n",
       "\n",
       "        Destination_TAIWAN, PROVINCE OF CHINA  Destination_THAILAND  \\\n",
       "0                                           0                     0   \n",
       "1                                           0                     0   \n",
       "2                                           0                     0   \n",
       "3                                           0                     0   \n",
       "4                                           0                     0   \n",
       "...                                       ...                   ...   \n",
       "112297                                      0                     0   \n",
       "112298                                      0                     0   \n",
       "112299                                      0                     0   \n",
       "112300                                      0                     0   \n",
       "112301                                      0                     0   \n",
       "\n",
       "        Destination_UNITED KINGDOM  Destination_UNITED STATES  \\\n",
       "0                                0                          0   \n",
       "1                                0                          0   \n",
       "2                                0                          0   \n",
       "3                                0                          0   \n",
       "4                                0                          0   \n",
       "...                            ...                        ...   \n",
       "112297                           0                          0   \n",
       "112298                           0                          0   \n",
       "112299                           0                          0   \n",
       "112300                           0                          0   \n",
       "112301                           0                          0   \n",
       "\n",
       "        Destination_VIET NAM  Claim  \n",
       "0                          0      0  \n",
       "1                          0      0  \n",
       "2                          0      0  \n",
       "3                          0      0  \n",
       "4                          0      0  \n",
       "...                      ...    ...  \n",
       "112297                     0      1  \n",
       "112298                     0      1  \n",
       "112299                     0      1  \n",
       "112300                     0      1  \n",
       "112301                     0      1  \n",
       "\n",
       "[112302 rows x 31 columns]"
      ]
     },
     "execution_count": 177,
     "metadata": {},
     "output_type": "execute_result"
    }
   ],
   "source": [
    "df_smoteen"
   ]
  },
  {
   "cell_type": "code",
   "execution_count": 178,
   "id": "ed1c6530",
   "metadata": {},
   "outputs": [],
   "source": [
    "ee = df_smoteen.columns"
   ]
  },
  {
   "cell_type": "markdown",
   "id": "db0c0105",
   "metadata": {},
   "source": [
    "## Enter Input Data"
   ]
  },
  {
   "cell_type": "code",
   "execution_count": 243,
   "id": "3edd15c4",
   "metadata": {},
   "outputs": [
    {
     "data": {
      "text/plain": [
       "array([1, 0], dtype=int64)"
      ]
     },
     "execution_count": 243,
     "metadata": {},
     "output_type": "execute_result"
    }
   ],
   "source": [
    "df_smoteen['Agency Type'].unique()"
   ]
  },
  {
   "cell_type": "code",
   "execution_count": 244,
   "id": "52a0979e",
   "metadata": {
    "scrolled": true
   },
   "outputs": [
    {
     "name": "stdout",
     "output_type": "stream",
     "text": [
      "d\n",
      "0\n"
     ]
    }
   ],
   "source": [
    "a = input()\n",
    "if a == 'Travel Agency':\n",
    "    i1 = 1\n",
    "else:\n",
    "    i1 = 0\n",
    "print(i1)"
   ]
  },
  {
   "cell_type": "code",
   "execution_count": 245,
   "id": "9623df15",
   "metadata": {},
   "outputs": [
    {
     "name": "stdout",
     "output_type": "stream",
     "text": [
      "Online\n",
      "1\n"
     ]
    }
   ],
   "source": [
    "a = input()\n",
    "if a == 'Online':\n",
    "    i2 = 1\n",
    "else:\n",
    "    i2 = 0\n",
    "print(i2)"
   ]
  },
  {
   "cell_type": "code",
   "execution_count": 246,
   "id": "0f928b66",
   "metadata": {},
   "outputs": [
    {
     "name": "stdout",
     "output_type": "stream",
     "text": [
      "51\n"
     ]
    }
   ],
   "source": [
    "i3 = int(input())"
   ]
  },
  {
   "cell_type": "code",
   "execution_count": 247,
   "id": "c7260de6",
   "metadata": {},
   "outputs": [
    {
     "name": "stdout",
     "output_type": "stream",
     "text": [
      "60.9209776109215\n"
     ]
    }
   ],
   "source": [
    "i4 = float(input())"
   ]
  },
  {
   "cell_type": "code",
   "execution_count": 248,
   "id": "cf449f68",
   "metadata": {},
   "outputs": [
    {
     "name": "stdout",
     "output_type": "stream",
     "text": [
      "15.2315600850316\n"
     ]
    }
   ],
   "source": [
    "i5 = float(input())"
   ]
  },
  {
   "cell_type": "code",
   "execution_count": 249,
   "id": "11710fea",
   "metadata": {},
   "outputs": [
    {
     "name": "stdout",
     "output_type": "stream",
     "text": [
      "34\n"
     ]
    }
   ],
   "source": [
    "i6 = int(input())"
   ]
  },
  {
   "cell_type": "code",
   "execution_count": 250,
   "id": "92d32fe0",
   "metadata": {},
   "outputs": [
    {
     "name": "stdout",
     "output_type": "stream",
     "text": [
      "e\n"
     ]
    }
   ],
   "source": [
    "agency = input()\n",
    "i7, i8, i9 = 0,0,0\n",
    "\n",
    "if agency == 'CWT':\n",
    "    i7 = 1\n",
    "elif agency == 'EPX':\n",
    "    i8 = 1\n",
    "elif agency == 'OTH':\n",
    "    i9 = 1"
   ]
  },
  {
   "cell_type": "code",
   "execution_count": 251,
   "id": "6f3c88a1",
   "metadata": {},
   "outputs": [
    {
     "name": "stdout",
     "output_type": "stream",
     "text": [
      "E\n"
     ]
    }
   ],
   "source": [
    "ProductName = input()\n",
    "i10, i11, i12, i13, i14, i15= 0,0,0,0,0,0\n",
    "\n",
    "if ProductName == '2 way Comprehensive Plan':\n",
    "    i10 = 1\n",
    "elif ProductName == 'Basic Plan':\n",
    "    i11 = 1\n",
    "elif ProductName == 'Bronze Plan':\n",
    "    i12 = 1\n",
    "elif ProductName == 'Cancellation Plan':\n",
    "    i13 = 1\n",
    "elif ProductName == 'Other':\n",
    "    i14 = 1\n",
    "elif ProductName == 'Rental Vehicle Excess Insurance':\n",
    "    i15 = 1"
   ]
  },
  {
   "cell_type": "code",
   "execution_count": 253,
   "id": "840002ea",
   "metadata": {},
   "outputs": [
    {
     "name": "stdout",
     "output_type": "stream",
     "text": [
      "SINGAPORE\n"
     ]
    }
   ],
   "source": [
    "Destination = input()\n",
    "i16, i17, i18, i19, i20, i21, i22, i23, i24, i25, i26, i27, i28, i29, i30= 0,0,0,0,0,0,0,0,0,0,0,0,0,0,0\n",
    "\n",
    "if Destination == 'CHINA':\n",
    "    i16 = 1\n",
    "elif Destination == 'HONG KONG':\n",
    "    i17 = 1\n",
    "elif Destination == 'INDIA':\n",
    "    i18 = 1\n",
    "elif Destination == 'INDONESIA':\n",
    "    i19 = 1\n",
    "elif Destination == 'JAPAN':\n",
    "    i20 = 1\n",
    "elif Destination == 'KOREA, REPUBLIC OF':\n",
    "    i21 = 1\n",
    "elif Destination == 'MALAYSIA':\n",
    "    i22 = 1\n",
    "elif Destination == 'OTHER':\n",
    "    i23 = 1\n",
    "elif Destination == 'PHILIPPINES':\n",
    "    i24 = 1\n",
    "elif Destination == 'SINGAPORE':\n",
    "    i25 = 1\n",
    "if Destination == 'TAIWAN, PROVINCE OF CHINA':\n",
    "    i26 = 1\n",
    "elif Destination == 'THAILAND':\n",
    "    i27 = 1\n",
    "elif Destination == 'UNITED KINGDOM':\n",
    "    i28 = 1\n",
    "elif Destination == 'UNITED STATES':\n",
    "    i29 = 1\n",
    "elif Destination == 'VIET NAM':\n",
    "    i30 = 1"
   ]
  },
  {
   "cell_type": "code",
   "execution_count": 254,
   "id": "8edbc10d",
   "metadata": {},
   "outputs": [
    {
     "name": "stdout",
     "output_type": "stream",
     "text": [
      "0 1 51 60.9209776109215 15.2315600850316 34 0 0 0 0 0 0 0 0 0 0 0 0 0 0 0 0 0 0 1 0 0 0 0 0\n"
     ]
    }
   ],
   "source": [
    "print(i1,i2,i3,i4,i5,i6,i7,i8,i9,i10, i11, i12, i13, i14, i15, i16, i17, i18, i19, i20, i21, i22, i23, i24, i25, i26, i27, i28, i29, i30)"
   ]
  },
  {
   "cell_type": "code",
   "execution_count": 255,
   "id": "ee0fb19d",
   "metadata": {},
   "outputs": [],
   "source": [
    "X = df_smoteen.iloc[:, :-1]\n",
    "y = df_smoteen.iloc[:, -1]\n",
    "X_train, X_test, y_train, y_test = train_test_split(X, y, test_size = 0.25, random_state = 0)\n",
    "\n",
    "#Feature Scaling\n",
    "sc = StandardScaler()\n",
    "X_train.loc[:,:] = sc.fit_transform(X_train.loc[:,:])\n",
    "X_test.loc[:,:] = sc.transform(X_test.loc[:,:])"
   ]
  },
  {
   "cell_type": "code",
   "execution_count": 256,
   "id": "068ce32e",
   "metadata": {},
   "outputs": [],
   "source": [
    "# assign values to lists.  \n",
    "data = [{'i1':i1,'i2':i2,'i3':i3,'i4':i4,'i5':i5,'i6':i6,'i7':i7,'i8':i8,'i9':i9,'i10':i10, 'i11':i11, 'i12':i12, 'i13':i13, 'i14':i14, 'i15':i15, 'i16':i16, 'i17':i17, 'i18':i18, 'i19':i19, 'i20':i20, 'i21':i21, 'i22':i22, 'i23':i23, 'i24':i24, 'i25':i25, 'i26':i26, 'i27':i27, 'i28':i28, 'i29':i29, 'i30':i30}] \n",
    "  \n",
    "# Creates DataFrame.  \n",
    "data_new = pd.DataFrame(data)  "
   ]
  },
  {
   "cell_type": "code",
   "execution_count": 257,
   "id": "da17aea2",
   "metadata": {},
   "outputs": [
    {
     "data": {
      "text/plain": [
       "['Agency Type',\n",
       " 'Distribution Channel',\n",
       " 'Duration',\n",
       " 'Net Sales',\n",
       " 'Commision (in value)',\n",
       " 'Age',\n",
       " 'Agency_CWT',\n",
       " 'Agency_EPX',\n",
       " 'Agency_OTH',\n",
       " 'Product Name_2 way Comprehensive Plan',\n",
       " 'Product Name_Basic Plan',\n",
       " 'Product Name_Bronze Plan',\n",
       " 'Product Name_Cancellation Plan',\n",
       " 'Product Name_Other',\n",
       " 'Product Name_Rental Vehicle Excess Insurance',\n",
       " 'Destination_CHINA',\n",
       " 'Destination_HONG KONG',\n",
       " 'Destination_INDIA',\n",
       " 'Destination_INDONESIA',\n",
       " 'Destination_JAPAN',\n",
       " 'Destination_KOREA, REPUBLIC OF',\n",
       " 'Destination_MALAYSIA',\n",
       " 'Destination_OTHER',\n",
       " 'Destination_PHILIPPINES',\n",
       " 'Destination_SINGAPORE',\n",
       " 'Destination_TAIWAN, PROVINCE OF CHINA',\n",
       " 'Destination_THAILAND',\n",
       " 'Destination_UNITED KINGDOM',\n",
       " 'Destination_UNITED STATES',\n",
       " 'Destination_VIET NAM']"
      ]
     },
     "execution_count": 257,
     "metadata": {},
     "output_type": "execute_result"
    }
   ],
   "source": [
    "list(ee[:-1])"
   ]
  },
  {
   "cell_type": "code",
   "execution_count": 258,
   "id": "996906b7",
   "metadata": {},
   "outputs": [],
   "source": [
    "data_new.columns = list(ee[:-1])"
   ]
  },
  {
   "cell_type": "code",
   "execution_count": 259,
   "id": "80bcd2ef",
   "metadata": {
    "scrolled": false
   },
   "outputs": [],
   "source": [
    "data_new.loc[:,:] = sc.transform(data_new.loc[:,:])"
   ]
  },
  {
   "cell_type": "code",
   "execution_count": 260,
   "id": "ac396b1a",
   "metadata": {},
   "outputs": [
    {
     "data": {
      "text/plain": [
       "array([[-1.03025835,  0.15386952, -0.21384596, -0.06310529, -0.07762295,\n",
       "        -0.36315414, -0.32803989, -0.76431548, -0.3561525 , -0.41994906,\n",
       "        -0.2227343 , -0.30867592, -0.43708795, -0.55678845, -0.32803989,\n",
       "        -0.21450604, -0.1416618 , -0.13687791, -0.17272509, -0.12681077,\n",
       "        -0.11192161, -0.23245891, -0.29715939, -0.14382679,  1.2912152 ,\n",
       "        -0.09081763, -0.22817155, -0.10629465, -0.17385181, -0.11981471]])"
      ]
     },
     "execution_count": 260,
     "metadata": {},
     "output_type": "execute_result"
    }
   ],
   "source": [
    "data_new.values"
   ]
  },
  {
   "cell_type": "markdown",
   "id": "9646f5bd",
   "metadata": {},
   "source": [
    "## Load Model"
   ]
  },
  {
   "cell_type": "code",
   "execution_count": 10,
   "id": "2b8e050a",
   "metadata": {},
   "outputs": [],
   "source": [
    "rrr= pd.read_csv('Data/classifed.csv')  "
   ]
  },
  {
   "cell_type": "code",
   "execution_count": 11,
   "id": "ffc9542d",
   "metadata": {},
   "outputs": [
    {
     "data": {
      "text/plain": [
       "array([[ 0.  ,  1.  , 80.  ,  4.12,  1.16, 48.  ,  0.  ,  0.  ,  1.  ,\n",
       "         0.  ,  0.  ,  0.  ,  0.  ,  1.  ,  0.  ,  0.  ,  0.  ,  0.  ,\n",
       "         0.  ,  0.  ,  0.  ,  0.  ,  0.  ,  0.  ,  1.  ,  0.  ,  0.  ,\n",
       "         0.  ,  0.  ,  0.  ]])"
      ]
     },
     "execution_count": 11,
     "metadata": {},
     "output_type": "execute_result"
    }
   ],
   "source": [
    "rrr[1:2].values"
   ]
  },
  {
   "cell_type": "code",
   "execution_count": 12,
   "id": "2935b4f2",
   "metadata": {},
   "outputs": [],
   "source": [
    "# Loading model to compare the results\n",
    "model = pickle.load(open('Insurance_Claim_model.pickle','rb'))"
   ]
  },
  {
   "cell_type": "code",
   "execution_count": 14,
   "id": "d5d7af71",
   "metadata": {},
   "outputs": [
    {
     "data": {
      "text/plain": [
       "array([0, 0, 0, ..., 0, 0, 0], dtype=int64)"
      ]
     },
     "execution_count": 14,
     "metadata": {},
     "output_type": "execute_result"
    }
   ],
   "source": [
    "model.predict(rrr)"
   ]
  },
  {
   "cell_type": "code",
   "execution_count": 9,
   "id": "e4105e2e",
   "metadata": {},
   "outputs": [
    {
     "data": {
      "text/plain": [
       "array([[-1.03025835,  0.15386952, -0.53912642, -0.41563459, -0.32844452,\n",
       "        -0.80126213, -0.32803989, -0.76431548, -0.3561525 , -0.41994906,\n",
       "        -0.2227343 , -0.30867592, -0.43708795,  1.79601427, -0.32803989,\n",
       "        -0.21450604, -0.1416618 , -0.13687791, -0.17272509, -0.12681077,\n",
       "        -0.11192161, -0.23245891, -0.29715939, -0.14382679,  1.2912152 ,\n",
       "        -0.09081763, -0.22817155, -0.10629465, -0.17385181, -0.11981471]])"
      ]
     },
     "execution_count": 9,
     "metadata": {},
     "output_type": "execute_result"
    }
   ],
   "source": [
    "rrr[0:1].values"
   ]
  },
  {
   "cell_type": "code",
   "execution_count": null,
   "id": "40fa14f2",
   "metadata": {},
   "outputs": [],
   "source": []
  }
 ],
 "metadata": {
  "kernelspec": {
   "display_name": "Python 3 (ipykernel)",
   "language": "python",
   "name": "python3"
  },
  "language_info": {
   "codemirror_mode": {
    "name": "ipython",
    "version": 3
   },
   "file_extension": ".py",
   "mimetype": "text/x-python",
   "name": "python",
   "nbconvert_exporter": "python",
   "pygments_lexer": "ipython3",
   "version": "3.9.7"
  }
 },
 "nbformat": 4,
 "nbformat_minor": 5
}
