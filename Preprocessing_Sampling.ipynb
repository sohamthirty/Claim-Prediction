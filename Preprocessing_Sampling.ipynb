{
 "cells": [
  {
   "cell_type": "markdown",
   "id": "d7f60243",
   "metadata": {},
   "source": [
    "# Preprocessing & Sampling"
   ]
  },
  {
   "cell_type": "markdown",
   "id": "bca8ae11",
   "metadata": {},
   "source": [
    "## Import Libraries"
   ]
  },
  {
   "cell_type": "code",
   "execution_count": 1,
   "id": "bfcf3c89",
   "metadata": {},
   "outputs": [],
   "source": [
    "import pandas as pd\n",
    "import numpy as np\n",
    "import matplotlib.pyplot as plt\n",
    "import seaborn as sns\n",
    "from matplotlib.pyplot import figure"
   ]
  },
  {
   "cell_type": "markdown",
   "id": "eee47663",
   "metadata": {},
   "source": [
    "## Import Dataset"
   ]
  },
  {
   "cell_type": "code",
   "execution_count": 2,
   "id": "2074d0be",
   "metadata": {},
   "outputs": [],
   "source": [
    "df = pd.read_csv(\"Data/travel_insurance.csv\")"
   ]
  },
  {
   "cell_type": "markdown",
   "id": "61d86462",
   "metadata": {},
   "source": [
    "## Preprocessing Data"
   ]
  },
  {
   "cell_type": "markdown",
   "id": "b7e8b1fb",
   "metadata": {},
   "source": [
    "### Handling Missing Data"
   ]
  },
  {
   "cell_type": "code",
   "execution_count": 3,
   "id": "5f9d1029",
   "metadata": {
    "scrolled": true
   },
   "outputs": [
    {
     "data": {
      "text/plain": [
       "Agency                   0.000000\n",
       "Agency Type              0.000000\n",
       "Distribution Channel     0.000000\n",
       "Product Name             0.000000\n",
       "Claim                    0.000000\n",
       "Duration                 0.000000\n",
       "Destination              0.000000\n",
       "Net Sales                0.000000\n",
       "Commision (in value)     0.000000\n",
       "Gender                  71.229827\n",
       "Age                      0.000000\n",
       "dtype: float64"
      ]
     },
     "execution_count": 3,
     "metadata": {},
     "output_type": "execute_result"
    }
   ],
   "source": [
    "#Check the percentages of missing value\n",
    "df.isnull().sum() / df.shape[0] * 100"
   ]
  },
  {
   "cell_type": "markdown",
   "id": "6c33d0a9",
   "metadata": {},
   "source": [
    "- Gender has 71% NaN Values"
   ]
  },
  {
   "cell_type": "markdown",
   "id": "a55fff19",
   "metadata": {},
   "source": [
    "Approaches to handle Missing Values:\n",
    "1. Deleting the columns with missing data\n",
    "2. Deleting the rows with missing data\n",
    "3. Filling the missing data with a value – Imputation\n",
    "4. Imputation with an additional column\n",
    "5. Filling with a Regression Model\n",
    "\n",
    "In this case, we can either \n",
    "1. Delete column 'Gender'\n",
    "or\n",
    "2. Create three categories: M,F,Unknown"
   ]
  },
  {
   "cell_type": "code",
   "execution_count": 4,
   "id": "35941e7e",
   "metadata": {},
   "outputs": [],
   "source": [
    "# Imputing with 'U' unspecified gender\n",
    "#df['Gender'] = df['Gender'].fillna('U')\n",
    "df=df.drop(['Gender'], axis = 1) "
   ]
  },
  {
   "cell_type": "markdown",
   "id": "dc87447d",
   "metadata": {},
   "source": [
    "### Introducing \"OTHERS\""
   ]
  },
  {
   "cell_type": "code",
   "execution_count": 5,
   "id": "8d98eefd",
   "metadata": {},
   "outputs": [],
   "source": [
    "df1_saved = df.copy() "
   ]
  },
  {
   "cell_type": "markdown",
   "id": "d21cfc56",
   "metadata": {},
   "source": [
    "#### Destination"
   ]
  },
  {
   "cell_type": "code",
   "execution_count": 6,
   "id": "57dbd95a",
   "metadata": {},
   "outputs": [
    {
     "data": {
      "text/plain": [
       "15"
      ]
     },
     "execution_count": 6,
     "metadata": {},
     "output_type": "execute_result"
    }
   ],
   "source": [
    "temp = df[\"Destination\"].value_counts().rename_axis('unique_values').reset_index(name='counts') \n",
    "len(temp.loc[temp['counts']>1000])"
   ]
  },
  {
   "cell_type": "code",
   "execution_count": 7,
   "id": "35dc6a41",
   "metadata": {},
   "outputs": [
    {
     "name": "stdout",
     "output_type": "stream",
     "text": [
      "Other Category will contain this percentage of data:  14.235858888923985\n"
     ]
    }
   ],
   "source": [
    "print(\"Other Category will contain this percentage of data: \",100 - (temp.loc[temp['counts']>1000].counts.sum() * 100 /temp.counts.sum()))"
   ]
  },
  {
   "cell_type": "code",
   "execution_count": 8,
   "id": "1158f1fd",
   "metadata": {},
   "outputs": [],
   "source": [
    "Allowed_Countries = temp.loc[temp['counts']>1000].unique_values.tolist()\n",
    "df['Destination']=df['Destination'].apply(lambda x: x if x in Allowed_Countries else 'OTHER')"
   ]
  },
  {
   "cell_type": "code",
   "execution_count": 9,
   "id": "b6da76fb",
   "metadata": {},
   "outputs": [
    {
     "data": {
      "text/html": [
       "<div>\n",
       "<style scoped>\n",
       "    .dataframe tbody tr th:only-of-type {\n",
       "        vertical-align: middle;\n",
       "    }\n",
       "\n",
       "    .dataframe tbody tr th {\n",
       "        vertical-align: top;\n",
       "    }\n",
       "\n",
       "    .dataframe thead th {\n",
       "        text-align: right;\n",
       "    }\n",
       "</style>\n",
       "<table border=\"1\" class=\"dataframe\">\n",
       "  <thead>\n",
       "    <tr style=\"text-align: right;\">\n",
       "      <th></th>\n",
       "      <th>unique_values</th>\n",
       "      <th>counts</th>\n",
       "    </tr>\n",
       "  </thead>\n",
       "  <tbody>\n",
       "    <tr>\n",
       "      <th>0</th>\n",
       "      <td>SINGAPORE</td>\n",
       "      <td>13255</td>\n",
       "    </tr>\n",
       "    <tr>\n",
       "      <th>1</th>\n",
       "      <td>MALAYSIA</td>\n",
       "      <td>5930</td>\n",
       "    </tr>\n",
       "    <tr>\n",
       "      <th>2</th>\n",
       "      <td>THAILAND</td>\n",
       "      <td>5894</td>\n",
       "    </tr>\n",
       "    <tr>\n",
       "      <th>3</th>\n",
       "      <td>CHINA</td>\n",
       "      <td>4796</td>\n",
       "    </tr>\n",
       "    <tr>\n",
       "      <th>4</th>\n",
       "      <td>AUSTRALIA</td>\n",
       "      <td>3694</td>\n",
       "    </tr>\n",
       "    <tr>\n",
       "      <th>5</th>\n",
       "      <td>INDONESIA</td>\n",
       "      <td>3452</td>\n",
       "    </tr>\n",
       "    <tr>\n",
       "      <th>6</th>\n",
       "      <td>UNITED STATES</td>\n",
       "      <td>2530</td>\n",
       "    </tr>\n",
       "    <tr>\n",
       "      <th>7</th>\n",
       "      <td>PHILIPPINES</td>\n",
       "      <td>2490</td>\n",
       "    </tr>\n",
       "    <tr>\n",
       "      <th>8</th>\n",
       "      <td>HONG KONG</td>\n",
       "      <td>2411</td>\n",
       "    </tr>\n",
       "    <tr>\n",
       "      <th>9</th>\n",
       "      <td>INDIA</td>\n",
       "      <td>2251</td>\n",
       "    </tr>\n",
       "    <tr>\n",
       "      <th>10</th>\n",
       "      <td>JAPAN</td>\n",
       "      <td>2061</td>\n",
       "    </tr>\n",
       "    <tr>\n",
       "      <th>11</th>\n",
       "      <td>VIET NAM</td>\n",
       "      <td>1669</td>\n",
       "    </tr>\n",
       "    <tr>\n",
       "      <th>12</th>\n",
       "      <td>KOREA, REPUBLIC OF</td>\n",
       "      <td>1479</td>\n",
       "    </tr>\n",
       "    <tr>\n",
       "      <th>13</th>\n",
       "      <td>UNITED KINGDOM</td>\n",
       "      <td>1309</td>\n",
       "    </tr>\n",
       "    <tr>\n",
       "      <th>14</th>\n",
       "      <td>TAIWAN, PROVINCE OF CHINA</td>\n",
       "      <td>1090</td>\n",
       "    </tr>\n",
       "  </tbody>\n",
       "</table>\n",
       "</div>"
      ],
      "text/plain": [
       "                unique_values  counts\n",
       "0                   SINGAPORE   13255\n",
       "1                    MALAYSIA    5930\n",
       "2                    THAILAND    5894\n",
       "3                       CHINA    4796\n",
       "4                   AUSTRALIA    3694\n",
       "5                   INDONESIA    3452\n",
       "6               UNITED STATES    2530\n",
       "7                 PHILIPPINES    2490\n",
       "8                   HONG KONG    2411\n",
       "9                       INDIA    2251\n",
       "10                      JAPAN    2061\n",
       "11                   VIET NAM    1669\n",
       "12         KOREA, REPUBLIC OF    1479\n",
       "13             UNITED KINGDOM    1309\n",
       "14  TAIWAN, PROVINCE OF CHINA    1090"
      ]
     },
     "execution_count": 9,
     "metadata": {},
     "output_type": "execute_result"
    }
   ],
   "source": [
    "temp.loc[temp['counts']>1000]"
   ]
  },
  {
   "cell_type": "markdown",
   "id": "983a129d",
   "metadata": {},
   "source": [
    "#### Product Name"
   ]
  },
  {
   "cell_type": "code",
   "execution_count": 122,
   "id": "7c382674",
   "metadata": {},
   "outputs": [
    {
     "data": {
      "text/plain": [
       "6"
      ]
     },
     "execution_count": 122,
     "metadata": {},
     "output_type": "execute_result"
    }
   ],
   "source": [
    "temp2 = df[\"Product Name\"].value_counts().rename_axis('unique_values').reset_index(name='counts') \n",
    "len(temp2.loc[temp2['counts']>3000])"
   ]
  },
  {
   "cell_type": "code",
   "execution_count": 123,
   "id": "894dbb54",
   "metadata": {},
   "outputs": [
    {
     "name": "stdout",
     "output_type": "stream",
     "text": [
      "Other Category will contain this percentage of data:  15.9634273442188\n"
     ]
    }
   ],
   "source": [
    "print(\"Other Category will contain this percentage of data: \",100 - (temp2.loc[temp2['counts']>3000].counts.sum() * 100 /temp.counts.sum()))"
   ]
  },
  {
   "cell_type": "code",
   "execution_count": 124,
   "id": "c43bd103",
   "metadata": {},
   "outputs": [],
   "source": [
    "Allowed_Products = temp2.loc[temp2['counts']>3000].unique_values.tolist()\n",
    "df['Product Name'] = df['Product Name'].apply(lambda x: x if x in Allowed_Products else 'Other')"
   ]
  },
  {
   "cell_type": "markdown",
   "id": "ed270c0e",
   "metadata": {},
   "source": [
    "#### Agency Type"
   ]
  },
  {
   "cell_type": "code",
   "execution_count": 125,
   "id": "d1960231",
   "metadata": {},
   "outputs": [
    {
     "data": {
      "text/plain": [
       "3"
      ]
     },
     "execution_count": 125,
     "metadata": {},
     "output_type": "execute_result"
    }
   ],
   "source": [
    "temp3 = df[\"Agency\"].value_counts().rename_axis('unique_values').reset_index(name='counts') \n",
    "len(temp3.loc[temp3['counts']>6400])"
   ]
  },
  {
   "cell_type": "code",
   "execution_count": 126,
   "id": "d0b6a1e7",
   "metadata": {},
   "outputs": [
    {
     "data": {
      "text/html": [
       "<div>\n",
       "<style scoped>\n",
       "    .dataframe tbody tr th:only-of-type {\n",
       "        vertical-align: middle;\n",
       "    }\n",
       "\n",
       "    .dataframe tbody tr th {\n",
       "        vertical-align: top;\n",
       "    }\n",
       "\n",
       "    .dataframe thead th {\n",
       "        text-align: right;\n",
       "    }\n",
       "</style>\n",
       "<table border=\"1\" class=\"dataframe\">\n",
       "  <thead>\n",
       "    <tr style=\"text-align: right;\">\n",
       "      <th></th>\n",
       "      <th>unique_values</th>\n",
       "      <th>counts</th>\n",
       "    </tr>\n",
       "  </thead>\n",
       "  <tbody>\n",
       "    <tr>\n",
       "      <th>0</th>\n",
       "      <td>EPX</td>\n",
       "      <td>35119</td>\n",
       "    </tr>\n",
       "    <tr>\n",
       "      <th>1</th>\n",
       "      <td>CWT</td>\n",
       "      <td>8580</td>\n",
       "    </tr>\n",
       "    <tr>\n",
       "      <th>2</th>\n",
       "      <td>C2B</td>\n",
       "      <td>8267</td>\n",
       "    </tr>\n",
       "  </tbody>\n",
       "</table>\n",
       "</div>"
      ],
      "text/plain": [
       "  unique_values  counts\n",
       "0           EPX   35119\n",
       "1           CWT    8580\n",
       "2           C2B    8267"
      ]
     },
     "execution_count": 126,
     "metadata": {},
     "output_type": "execute_result"
    }
   ],
   "source": [
    "temp3.loc[temp3['counts']>6400]"
   ]
  },
  {
   "cell_type": "code",
   "execution_count": 127,
   "id": "78b6aa6e",
   "metadata": {},
   "outputs": [
    {
     "name": "stdout",
     "output_type": "stream",
     "text": [
      "Other Category will contain this percentage of data:  17.938919243280807\n"
     ]
    }
   ],
   "source": [
    "print(\"Other Category will contain this percentage of data: \",100 - (temp3.loc[temp3['counts']>6400].counts.sum() * 100 /temp.counts.sum()))"
   ]
  },
  {
   "cell_type": "code",
   "execution_count": 128,
   "id": "2f2bf13b",
   "metadata": {},
   "outputs": [],
   "source": [
    "Allowed_Agencies = temp3.loc[temp3['counts']>6400].unique_values.tolist()\n",
    "df['Agency'] = df['Agency'].apply(lambda x: x if x in Allowed_Agencies else 'OTH')"
   ]
  },
  {
   "cell_type": "markdown",
   "id": "7adc57d9",
   "metadata": {},
   "source": [
    "### Encoding"
   ]
  },
  {
   "cell_type": "code",
   "execution_count": 129,
   "id": "bd5fc0b6",
   "metadata": {},
   "outputs": [],
   "source": [
    "df1_saved = df.copy()"
   ]
  },
  {
   "cell_type": "code",
   "execution_count": 130,
   "id": "0219d822",
   "metadata": {},
   "outputs": [
    {
     "data": {
      "text/plain": [
       "Index(['Agency', 'Agency Type', 'Distribution Channel', 'Product Name',\n",
       "       'Claim', 'Duration', 'Destination', 'Net Sales', 'Commision (in value)',\n",
       "       'Age'],\n",
       "      dtype='object')"
      ]
     },
     "execution_count": 130,
     "metadata": {},
     "output_type": "execute_result"
    }
   ],
   "source": [
    "df.columns"
   ]
  },
  {
   "cell_type": "code",
   "execution_count": 131,
   "id": "3c823644",
   "metadata": {},
   "outputs": [
    {
     "data": {
      "text/html": [
       "<div>\n",
       "<style scoped>\n",
       "    .dataframe tbody tr th:only-of-type {\n",
       "        vertical-align: middle;\n",
       "    }\n",
       "\n",
       "    .dataframe tbody tr th {\n",
       "        vertical-align: top;\n",
       "    }\n",
       "\n",
       "    .dataframe thead th {\n",
       "        text-align: right;\n",
       "    }\n",
       "</style>\n",
       "<table border=\"1\" class=\"dataframe\">\n",
       "  <thead>\n",
       "    <tr style=\"text-align: right;\">\n",
       "      <th></th>\n",
       "      <th>Agency</th>\n",
       "      <th>Agency Type</th>\n",
       "      <th>Distribution Channel</th>\n",
       "      <th>Product Name</th>\n",
       "      <th>Claim</th>\n",
       "      <th>Duration</th>\n",
       "      <th>Destination</th>\n",
       "      <th>Net Sales</th>\n",
       "      <th>Commision (in value)</th>\n",
       "      <th>Age</th>\n",
       "    </tr>\n",
       "  </thead>\n",
       "  <tbody>\n",
       "    <tr>\n",
       "      <th>0</th>\n",
       "      <td>OTH</td>\n",
       "      <td>Travel Agency</td>\n",
       "      <td>Offline</td>\n",
       "      <td>Other</td>\n",
       "      <td>No</td>\n",
       "      <td>186</td>\n",
       "      <td>MALAYSIA</td>\n",
       "      <td>-29.0</td>\n",
       "      <td>9.57</td>\n",
       "      <td>81</td>\n",
       "    </tr>\n",
       "    <tr>\n",
       "      <th>1</th>\n",
       "      <td>OTH</td>\n",
       "      <td>Travel Agency</td>\n",
       "      <td>Offline</td>\n",
       "      <td>Other</td>\n",
       "      <td>No</td>\n",
       "      <td>186</td>\n",
       "      <td>MALAYSIA</td>\n",
       "      <td>-29.0</td>\n",
       "      <td>9.57</td>\n",
       "      <td>71</td>\n",
       "    </tr>\n",
       "    <tr>\n",
       "      <th>2</th>\n",
       "      <td>CWT</td>\n",
       "      <td>Travel Agency</td>\n",
       "      <td>Online</td>\n",
       "      <td>Rental Vehicle Excess Insurance</td>\n",
       "      <td>No</td>\n",
       "      <td>65</td>\n",
       "      <td>AUSTRALIA</td>\n",
       "      <td>-49.5</td>\n",
       "      <td>29.70</td>\n",
       "      <td>32</td>\n",
       "    </tr>\n",
       "    <tr>\n",
       "      <th>3</th>\n",
       "      <td>CWT</td>\n",
       "      <td>Travel Agency</td>\n",
       "      <td>Online</td>\n",
       "      <td>Rental Vehicle Excess Insurance</td>\n",
       "      <td>No</td>\n",
       "      <td>60</td>\n",
       "      <td>AUSTRALIA</td>\n",
       "      <td>-39.6</td>\n",
       "      <td>23.76</td>\n",
       "      <td>32</td>\n",
       "    </tr>\n",
       "    <tr>\n",
       "      <th>4</th>\n",
       "      <td>CWT</td>\n",
       "      <td>Travel Agency</td>\n",
       "      <td>Online</td>\n",
       "      <td>Rental Vehicle Excess Insurance</td>\n",
       "      <td>No</td>\n",
       "      <td>79</td>\n",
       "      <td>OTHER</td>\n",
       "      <td>-19.8</td>\n",
       "      <td>11.88</td>\n",
       "      <td>41</td>\n",
       "    </tr>\n",
       "    <tr>\n",
       "      <th>...</th>\n",
       "      <td>...</td>\n",
       "      <td>...</td>\n",
       "      <td>...</td>\n",
       "      <td>...</td>\n",
       "      <td>...</td>\n",
       "      <td>...</td>\n",
       "      <td>...</td>\n",
       "      <td>...</td>\n",
       "      <td>...</td>\n",
       "      <td>...</td>\n",
       "    </tr>\n",
       "    <tr>\n",
       "      <th>63321</th>\n",
       "      <td>OTH</td>\n",
       "      <td>Airlines</td>\n",
       "      <td>Online</td>\n",
       "      <td>Basic Plan</td>\n",
       "      <td>No</td>\n",
       "      <td>111</td>\n",
       "      <td>JAPAN</td>\n",
       "      <td>35.0</td>\n",
       "      <td>12.25</td>\n",
       "      <td>31</td>\n",
       "    </tr>\n",
       "    <tr>\n",
       "      <th>63322</th>\n",
       "      <td>OTH</td>\n",
       "      <td>Airlines</td>\n",
       "      <td>Online</td>\n",
       "      <td>Basic Plan</td>\n",
       "      <td>No</td>\n",
       "      <td>58</td>\n",
       "      <td>CHINA</td>\n",
       "      <td>40.0</td>\n",
       "      <td>14.00</td>\n",
       "      <td>40</td>\n",
       "    </tr>\n",
       "    <tr>\n",
       "      <th>63323</th>\n",
       "      <td>OTH</td>\n",
       "      <td>Airlines</td>\n",
       "      <td>Online</td>\n",
       "      <td>Basic Plan</td>\n",
       "      <td>No</td>\n",
       "      <td>2</td>\n",
       "      <td>MALAYSIA</td>\n",
       "      <td>18.0</td>\n",
       "      <td>6.30</td>\n",
       "      <td>57</td>\n",
       "    </tr>\n",
       "    <tr>\n",
       "      <th>63324</th>\n",
       "      <td>OTH</td>\n",
       "      <td>Airlines</td>\n",
       "      <td>Online</td>\n",
       "      <td>Basic Plan</td>\n",
       "      <td>No</td>\n",
       "      <td>3</td>\n",
       "      <td>VIET NAM</td>\n",
       "      <td>18.0</td>\n",
       "      <td>6.30</td>\n",
       "      <td>63</td>\n",
       "    </tr>\n",
       "    <tr>\n",
       "      <th>63325</th>\n",
       "      <td>OTH</td>\n",
       "      <td>Airlines</td>\n",
       "      <td>Online</td>\n",
       "      <td>Basic Plan</td>\n",
       "      <td>No</td>\n",
       "      <td>22</td>\n",
       "      <td>HONG KONG</td>\n",
       "      <td>26.0</td>\n",
       "      <td>9.10</td>\n",
       "      <td>35</td>\n",
       "    </tr>\n",
       "  </tbody>\n",
       "</table>\n",
       "<p>63326 rows × 10 columns</p>\n",
       "</div>"
      ],
      "text/plain": [
       "      Agency    Agency Type Distribution Channel  \\\n",
       "0        OTH  Travel Agency              Offline   \n",
       "1        OTH  Travel Agency              Offline   \n",
       "2        CWT  Travel Agency               Online   \n",
       "3        CWT  Travel Agency               Online   \n",
       "4        CWT  Travel Agency               Online   \n",
       "...      ...            ...                  ...   \n",
       "63321    OTH       Airlines               Online   \n",
       "63322    OTH       Airlines               Online   \n",
       "63323    OTH       Airlines               Online   \n",
       "63324    OTH       Airlines               Online   \n",
       "63325    OTH       Airlines               Online   \n",
       "\n",
       "                          Product Name Claim  Duration Destination  Net Sales  \\\n",
       "0                                Other    No       186    MALAYSIA      -29.0   \n",
       "1                                Other    No       186    MALAYSIA      -29.0   \n",
       "2      Rental Vehicle Excess Insurance    No        65   AUSTRALIA      -49.5   \n",
       "3      Rental Vehicle Excess Insurance    No        60   AUSTRALIA      -39.6   \n",
       "4      Rental Vehicle Excess Insurance    No        79       OTHER      -19.8   \n",
       "...                                ...   ...       ...         ...        ...   \n",
       "63321                       Basic Plan    No       111       JAPAN       35.0   \n",
       "63322                       Basic Plan    No        58       CHINA       40.0   \n",
       "63323                       Basic Plan    No         2    MALAYSIA       18.0   \n",
       "63324                       Basic Plan    No         3    VIET NAM       18.0   \n",
       "63325                       Basic Plan    No        22   HONG KONG       26.0   \n",
       "\n",
       "       Commision (in value)  Age  \n",
       "0                      9.57   81  \n",
       "1                      9.57   71  \n",
       "2                     29.70   32  \n",
       "3                     23.76   32  \n",
       "4                     11.88   41  \n",
       "...                     ...  ...  \n",
       "63321                 12.25   31  \n",
       "63322                 14.00   40  \n",
       "63323                  6.30   57  \n",
       "63324                  6.30   63  \n",
       "63325                  9.10   35  \n",
       "\n",
       "[63326 rows x 10 columns]"
      ]
     },
     "execution_count": 131,
     "metadata": {},
     "output_type": "execute_result"
    }
   ],
   "source": [
    "df"
   ]
  },
  {
   "cell_type": "code",
   "execution_count": 132,
   "id": "d66aad45",
   "metadata": {},
   "outputs": [],
   "source": [
    "#Label Encoding\n",
    "from sklearn import preprocessing\n",
    "\n",
    "label_encoder2 = preprocessing.LabelEncoder()\n",
    "df.loc[:,'Agency Type']= label_encoder2.fit_transform(df.loc[:, 'Agency Type'])\n",
    "\n",
    "label_encoder3 = preprocessing.LabelEncoder()\n",
    "df.loc[:,'Distribution Channel']= label_encoder3.fit_transform(df.loc[:, 'Distribution Channel'])\n",
    "\n",
    "label_encoder5 = preprocessing.LabelEncoder()\n",
    "df.loc[:,'Claim']= label_encoder5.fit_transform(df.loc[:,'Claim'])"
   ]
  },
  {
   "cell_type": "code",
   "execution_count": 133,
   "id": "6b5ebba3",
   "metadata": {},
   "outputs": [
    {
     "data": {
      "text/plain": [
       "<AxesSubplot:>"
      ]
     },
     "execution_count": 133,
     "metadata": {},
     "output_type": "execute_result"
    },
    {
     "data": {
      "image/png": "[encoded data removed]",
      "text/plain": [
       "<Figure size 1440x576 with 2 Axes>"
      ]
     },
     "metadata": {
      "needs_background": "light"
     },
     "output_type": "display_data"
    }
   ],
   "source": [
    "#Correlation Matrix\n",
    "\n",
    "plt.figure(figsize = (20,8))\n",
    "sns.heatmap(df.corr(), square=True,annot=True,cmap= 'coolwarm')"
   ]
  },
  {
   "cell_type": "code",
   "execution_count": 134,
   "id": "77c6204b",
   "metadata": {},
   "outputs": [],
   "source": [
    "#Shifting the target column\n",
    "first_column = df.pop('Claim')\n",
    "\n",
    "df.insert(0, 'Claim', first_column)"
   ]
  },
  {
   "cell_type": "code",
   "execution_count": 135,
   "id": "b080fa19",
   "metadata": {},
   "outputs": [
    {
     "data": {
      "text/html": [
       "<div>\n",
       "<style scoped>\n",
       "    .dataframe tbody tr th:only-of-type {\n",
       "        vertical-align: middle;\n",
       "    }\n",
       "\n",
       "    .dataframe tbody tr th {\n",
       "        vertical-align: top;\n",
       "    }\n",
       "\n",
       "    .dataframe thead th {\n",
       "        text-align: right;\n",
       "    }\n",
       "</style>\n",
       "<table border=\"1\" class=\"dataframe\">\n",
       "  <thead>\n",
       "    <tr style=\"text-align: right;\">\n",
       "      <th></th>\n",
       "      <th>Claim</th>\n",
       "      <th>Agency</th>\n",
       "      <th>Agency Type</th>\n",
       "      <th>Distribution Channel</th>\n",
       "      <th>Product Name</th>\n",
       "      <th>Duration</th>\n",
       "      <th>Destination</th>\n",
       "      <th>Net Sales</th>\n",
       "      <th>Commision (in value)</th>\n",
       "      <th>Age</th>\n",
       "    </tr>\n",
       "  </thead>\n",
       "  <tbody>\n",
       "    <tr>\n",
       "      <th>0</th>\n",
       "      <td>0</td>\n",
       "      <td>OTH</td>\n",
       "      <td>1</td>\n",
       "      <td>0</td>\n",
       "      <td>Other</td>\n",
       "      <td>186</td>\n",
       "      <td>MALAYSIA</td>\n",
       "      <td>-29.0</td>\n",
       "      <td>9.57</td>\n",
       "      <td>81</td>\n",
       "    </tr>\n",
       "    <tr>\n",
       "      <th>1</th>\n",
       "      <td>0</td>\n",
       "      <td>OTH</td>\n",
       "      <td>1</td>\n",
       "      <td>0</td>\n",
       "      <td>Other</td>\n",
       "      <td>186</td>\n",
       "      <td>MALAYSIA</td>\n",
       "      <td>-29.0</td>\n",
       "      <td>9.57</td>\n",
       "      <td>71</td>\n",
       "    </tr>\n",
       "    <tr>\n",
       "      <th>2</th>\n",
       "      <td>0</td>\n",
       "      <td>CWT</td>\n",
       "      <td>1</td>\n",
       "      <td>1</td>\n",
       "      <td>Rental Vehicle Excess Insurance</td>\n",
       "      <td>65</td>\n",
       "      <td>AUSTRALIA</td>\n",
       "      <td>-49.5</td>\n",
       "      <td>29.70</td>\n",
       "      <td>32</td>\n",
       "    </tr>\n",
       "    <tr>\n",
       "      <th>3</th>\n",
       "      <td>0</td>\n",
       "      <td>CWT</td>\n",
       "      <td>1</td>\n",
       "      <td>1</td>\n",
       "      <td>Rental Vehicle Excess Insurance</td>\n",
       "      <td>60</td>\n",
       "      <td>AUSTRALIA</td>\n",
       "      <td>-39.6</td>\n",
       "      <td>23.76</td>\n",
       "      <td>32</td>\n",
       "    </tr>\n",
       "    <tr>\n",
       "      <th>4</th>\n",
       "      <td>0</td>\n",
       "      <td>CWT</td>\n",
       "      <td>1</td>\n",
       "      <td>1</td>\n",
       "      <td>Rental Vehicle Excess Insurance</td>\n",
       "      <td>79</td>\n",
       "      <td>OTHER</td>\n",
       "      <td>-19.8</td>\n",
       "      <td>11.88</td>\n",
       "      <td>41</td>\n",
       "    </tr>\n",
       "    <tr>\n",
       "      <th>...</th>\n",
       "      <td>...</td>\n",
       "      <td>...</td>\n",
       "      <td>...</td>\n",
       "      <td>...</td>\n",
       "      <td>...</td>\n",
       "      <td>...</td>\n",
       "      <td>...</td>\n",
       "      <td>...</td>\n",
       "      <td>...</td>\n",
       "      <td>...</td>\n",
       "    </tr>\n",
       "    <tr>\n",
       "      <th>63321</th>\n",
       "      <td>0</td>\n",
       "      <td>OTH</td>\n",
       "      <td>0</td>\n",
       "      <td>1</td>\n",
       "      <td>Basic Plan</td>\n",
       "      <td>111</td>\n",
       "      <td>JAPAN</td>\n",
       "      <td>35.0</td>\n",
       "      <td>12.25</td>\n",
       "      <td>31</td>\n",
       "    </tr>\n",
       "    <tr>\n",
       "      <th>63322</th>\n",
       "      <td>0</td>\n",
       "      <td>OTH</td>\n",
       "      <td>0</td>\n",
       "      <td>1</td>\n",
       "      <td>Basic Plan</td>\n",
       "      <td>58</td>\n",
       "      <td>CHINA</td>\n",
       "      <td>40.0</td>\n",
       "      <td>14.00</td>\n",
       "      <td>40</td>\n",
       "    </tr>\n",
       "    <tr>\n",
       "      <th>63323</th>\n",
       "      <td>0</td>\n",
       "      <td>OTH</td>\n",
       "      <td>0</td>\n",
       "      <td>1</td>\n",
       "      <td>Basic Plan</td>\n",
       "      <td>2</td>\n",
       "      <td>MALAYSIA</td>\n",
       "      <td>18.0</td>\n",
       "      <td>6.30</td>\n",
       "      <td>57</td>\n",
       "    </tr>\n",
       "    <tr>\n",
       "      <th>63324</th>\n",
       "      <td>0</td>\n",
       "      <td>OTH</td>\n",
       "      <td>0</td>\n",
       "      <td>1</td>\n",
       "      <td>Basic Plan</td>\n",
       "      <td>3</td>\n",
       "      <td>VIET NAM</td>\n",
       "      <td>18.0</td>\n",
       "      <td>6.30</td>\n",
       "      <td>63</td>\n",
       "    </tr>\n",
       "    <tr>\n",
       "      <th>63325</th>\n",
       "      <td>0</td>\n",
       "      <td>OTH</td>\n",
       "      <td>0</td>\n",
       "      <td>1</td>\n",
       "      <td>Basic Plan</td>\n",
       "      <td>22</td>\n",
       "      <td>HONG KONG</td>\n",
       "      <td>26.0</td>\n",
       "      <td>9.10</td>\n",
       "      <td>35</td>\n",
       "    </tr>\n",
       "  </tbody>\n",
       "</table>\n",
       "<p>63326 rows × 10 columns</p>\n",
       "</div>"
      ],
      "text/plain": [
       "       Claim Agency  Agency Type  Distribution Channel  \\\n",
       "0          0    OTH            1                     0   \n",
       "1          0    OTH            1                     0   \n",
       "2          0    CWT            1                     1   \n",
       "3          0    CWT            1                     1   \n",
       "4          0    CWT            1                     1   \n",
       "...      ...    ...          ...                   ...   \n",
       "63321      0    OTH            0                     1   \n",
       "63322      0    OTH            0                     1   \n",
       "63323      0    OTH            0                     1   \n",
       "63324      0    OTH            0                     1   \n",
       "63325      0    OTH            0                     1   \n",
       "\n",
       "                          Product Name  Duration Destination  Net Sales  \\\n",
       "0                                Other       186    MALAYSIA      -29.0   \n",
       "1                                Other       186    MALAYSIA      -29.0   \n",
       "2      Rental Vehicle Excess Insurance        65   AUSTRALIA      -49.5   \n",
       "3      Rental Vehicle Excess Insurance        60   AUSTRALIA      -39.6   \n",
       "4      Rental Vehicle Excess Insurance        79       OTHER      -19.8   \n",
       "...                                ...       ...         ...        ...   \n",
       "63321                       Basic Plan       111       JAPAN       35.0   \n",
       "63322                       Basic Plan        58       CHINA       40.0   \n",
       "63323                       Basic Plan         2    MALAYSIA       18.0   \n",
       "63324                       Basic Plan         3    VIET NAM       18.0   \n",
       "63325                       Basic Plan        22   HONG KONG       26.0   \n",
       "\n",
       "       Commision (in value)  Age  \n",
       "0                      9.57   81  \n",
       "1                      9.57   71  \n",
       "2                     29.70   32  \n",
       "3                     23.76   32  \n",
       "4                     11.88   41  \n",
       "...                     ...  ...  \n",
       "63321                 12.25   31  \n",
       "63322                 14.00   40  \n",
       "63323                  6.30   57  \n",
       "63324                  6.30   63  \n",
       "63325                  9.10   35  \n",
       "\n",
       "[63326 rows x 10 columns]"
      ]
     },
     "execution_count": 135,
     "metadata": {},
     "output_type": "execute_result"
    }
   ],
   "source": [
    "df"
   ]
  },
  {
   "cell_type": "code",
   "execution_count": 136,
   "id": "2b2bee66",
   "metadata": {},
   "outputs": [],
   "source": [
    "#One Hot Encoding\n",
    "df = pd.get_dummies(df, columns=['Agency','Product Name','Destination'], drop_first=True)"
   ]
  },
  {
   "cell_type": "code",
   "execution_count": 137,
   "id": "26ba55b2",
   "metadata": {},
   "outputs": [
    {
     "data": {
      "text/plain": [
       "(63326, 31)"
      ]
     },
     "execution_count": 137,
     "metadata": {},
     "output_type": "execute_result"
    }
   ],
   "source": [
    "df.shape"
   ]
  },
  {
   "cell_type": "code",
   "execution_count": 138,
   "id": "ad47e0cc",
   "metadata": {},
   "outputs": [
    {
     "data": {
      "text/html": [
       "<div>\n",
       "<style scoped>\n",
       "    .dataframe tbody tr th:only-of-type {\n",
       "        vertical-align: middle;\n",
       "    }\n",
       "\n",
       "    .dataframe tbody tr th {\n",
       "        vertical-align: top;\n",
       "    }\n",
       "\n",
       "    .dataframe thead th {\n",
       "        text-align: right;\n",
       "    }\n",
       "</style>\n",
       "<table border=\"1\" class=\"dataframe\">\n",
       "  <thead>\n",
       "    <tr style=\"text-align: right;\">\n",
       "      <th></th>\n",
       "      <th>Claim</th>\n",
       "      <th>Agency Type</th>\n",
       "      <th>Distribution Channel</th>\n",
       "      <th>Duration</th>\n",
       "      <th>Net Sales</th>\n",
       "      <th>Commision (in value)</th>\n",
       "      <th>Age</th>\n",
       "      <th>Agency_CWT</th>\n",
       "      <th>Agency_EPX</th>\n",
       "      <th>Agency_OTH</th>\n",
       "      <th>...</th>\n",
       "      <th>Destination_KOREA, REPUBLIC OF</th>\n",
       "      <th>Destination_MALAYSIA</th>\n",
       "      <th>Destination_OTHER</th>\n",
       "      <th>Destination_PHILIPPINES</th>\n",
       "      <th>Destination_SINGAPORE</th>\n",
       "      <th>Destination_TAIWAN, PROVINCE OF CHINA</th>\n",
       "      <th>Destination_THAILAND</th>\n",
       "      <th>Destination_UNITED KINGDOM</th>\n",
       "      <th>Destination_UNITED STATES</th>\n",
       "      <th>Destination_VIET NAM</th>\n",
       "    </tr>\n",
       "  </thead>\n",
       "  <tbody>\n",
       "    <tr>\n",
       "      <th>0</th>\n",
       "      <td>0</td>\n",
       "      <td>1</td>\n",
       "      <td>0</td>\n",
       "      <td>186</td>\n",
       "      <td>-29.0</td>\n",
       "      <td>9.57</td>\n",
       "      <td>81</td>\n",
       "      <td>0</td>\n",
       "      <td>0</td>\n",
       "      <td>1</td>\n",
       "      <td>...</td>\n",
       "      <td>0</td>\n",
       "      <td>1</td>\n",
       "      <td>0</td>\n",
       "      <td>0</td>\n",
       "      <td>0</td>\n",
       "      <td>0</td>\n",
       "      <td>0</td>\n",
       "      <td>0</td>\n",
       "      <td>0</td>\n",
       "      <td>0</td>\n",
       "    </tr>\n",
       "    <tr>\n",
       "      <th>1</th>\n",
       "      <td>0</td>\n",
       "      <td>1</td>\n",
       "      <td>0</td>\n",
       "      <td>186</td>\n",
       "      <td>-29.0</td>\n",
       "      <td>9.57</td>\n",
       "      <td>71</td>\n",
       "      <td>0</td>\n",
       "      <td>0</td>\n",
       "      <td>1</td>\n",
       "      <td>...</td>\n",
       "      <td>0</td>\n",
       "      <td>1</td>\n",
       "      <td>0</td>\n",
       "      <td>0</td>\n",
       "      <td>0</td>\n",
       "      <td>0</td>\n",
       "      <td>0</td>\n",
       "      <td>0</td>\n",
       "      <td>0</td>\n",
       "      <td>0</td>\n",
       "    </tr>\n",
       "    <tr>\n",
       "      <th>2</th>\n",
       "      <td>0</td>\n",
       "      <td>1</td>\n",
       "      <td>1</td>\n",
       "      <td>65</td>\n",
       "      <td>-49.5</td>\n",
       "      <td>29.70</td>\n",
       "      <td>32</td>\n",
       "      <td>1</td>\n",
       "      <td>0</td>\n",
       "      <td>0</td>\n",
       "      <td>...</td>\n",
       "      <td>0</td>\n",
       "      <td>0</td>\n",
       "      <td>0</td>\n",
       "      <td>0</td>\n",
       "      <td>0</td>\n",
       "      <td>0</td>\n",
       "      <td>0</td>\n",
       "      <td>0</td>\n",
       "      <td>0</td>\n",
       "      <td>0</td>\n",
       "    </tr>\n",
       "    <tr>\n",
       "      <th>3</th>\n",
       "      <td>0</td>\n",
       "      <td>1</td>\n",
       "      <td>1</td>\n",
       "      <td>60</td>\n",
       "      <td>-39.6</td>\n",
       "      <td>23.76</td>\n",
       "      <td>32</td>\n",
       "      <td>1</td>\n",
       "      <td>0</td>\n",
       "      <td>0</td>\n",
       "      <td>...</td>\n",
       "      <td>0</td>\n",
       "      <td>0</td>\n",
       "      <td>0</td>\n",
       "      <td>0</td>\n",
       "      <td>0</td>\n",
       "      <td>0</td>\n",
       "      <td>0</td>\n",
       "      <td>0</td>\n",
       "      <td>0</td>\n",
       "      <td>0</td>\n",
       "    </tr>\n",
       "    <tr>\n",
       "      <th>4</th>\n",
       "      <td>0</td>\n",
       "      <td>1</td>\n",
       "      <td>1</td>\n",
       "      <td>79</td>\n",
       "      <td>-19.8</td>\n",
       "      <td>11.88</td>\n",
       "      <td>41</td>\n",
       "      <td>1</td>\n",
       "      <td>0</td>\n",
       "      <td>0</td>\n",
       "      <td>...</td>\n",
       "      <td>0</td>\n",
       "      <td>0</td>\n",
       "      <td>1</td>\n",
       "      <td>0</td>\n",
       "      <td>0</td>\n",
       "      <td>0</td>\n",
       "      <td>0</td>\n",
       "      <td>0</td>\n",
       "      <td>0</td>\n",
       "      <td>0</td>\n",
       "    </tr>\n",
       "    <tr>\n",
       "      <th>...</th>\n",
       "      <td>...</td>\n",
       "      <td>...</td>\n",
       "      <td>...</td>\n",
       "      <td>...</td>\n",
       "      <td>...</td>\n",
       "      <td>...</td>\n",
       "      <td>...</td>\n",
       "      <td>...</td>\n",
       "      <td>...</td>\n",
       "      <td>...</td>\n",
       "      <td>...</td>\n",
       "      <td>...</td>\n",
       "      <td>...</td>\n",
       "      <td>...</td>\n",
       "      <td>...</td>\n",
       "      <td>...</td>\n",
       "      <td>...</td>\n",
       "      <td>...</td>\n",
       "      <td>...</td>\n",
       "      <td>...</td>\n",
       "      <td>...</td>\n",
       "    </tr>\n",
       "    <tr>\n",
       "      <th>63321</th>\n",
       "      <td>0</td>\n",
       "      <td>0</td>\n",
       "      <td>1</td>\n",
       "      <td>111</td>\n",
       "      <td>35.0</td>\n",
       "      <td>12.25</td>\n",
       "      <td>31</td>\n",
       "      <td>0</td>\n",
       "      <td>0</td>\n",
       "      <td>1</td>\n",
       "      <td>...</td>\n",
       "      <td>0</td>\n",
       "      <td>0</td>\n",
       "      <td>0</td>\n",
       "      <td>0</td>\n",
       "      <td>0</td>\n",
       "      <td>0</td>\n",
       "      <td>0</td>\n",
       "      <td>0</td>\n",
       "      <td>0</td>\n",
       "      <td>0</td>\n",
       "    </tr>\n",
       "    <tr>\n",
       "      <th>63322</th>\n",
       "      <td>0</td>\n",
       "      <td>0</td>\n",
       "      <td>1</td>\n",
       "      <td>58</td>\n",
       "      <td>40.0</td>\n",
       "      <td>14.00</td>\n",
       "      <td>40</td>\n",
       "      <td>0</td>\n",
       "      <td>0</td>\n",
       "      <td>1</td>\n",
       "      <td>...</td>\n",
       "      <td>0</td>\n",
       "      <td>0</td>\n",
       "      <td>0</td>\n",
       "      <td>0</td>\n",
       "      <td>0</td>\n",
       "      <td>0</td>\n",
       "      <td>0</td>\n",
       "      <td>0</td>\n",
       "      <td>0</td>\n",
       "      <td>0</td>\n",
       "    </tr>\n",
       "    <tr>\n",
       "      <th>63323</th>\n",
       "      <td>0</td>\n",
       "      <td>0</td>\n",
       "      <td>1</td>\n",
       "      <td>2</td>\n",
       "      <td>18.0</td>\n",
       "      <td>6.30</td>\n",
       "      <td>57</td>\n",
       "      <td>0</td>\n",
       "      <td>0</td>\n",
       "      <td>1</td>\n",
       "      <td>...</td>\n",
       "      <td>0</td>\n",
       "      <td>1</td>\n",
       "      <td>0</td>\n",
       "      <td>0</td>\n",
       "      <td>0</td>\n",
       "      <td>0</td>\n",
       "      <td>0</td>\n",
       "      <td>0</td>\n",
       "      <td>0</td>\n",
       "      <td>0</td>\n",
       "    </tr>\n",
       "    <tr>\n",
       "      <th>63324</th>\n",
       "      <td>0</td>\n",
       "      <td>0</td>\n",
       "      <td>1</td>\n",
       "      <td>3</td>\n",
       "      <td>18.0</td>\n",
       "      <td>6.30</td>\n",
       "      <td>63</td>\n",
       "      <td>0</td>\n",
       "      <td>0</td>\n",
       "      <td>1</td>\n",
       "      <td>...</td>\n",
       "      <td>0</td>\n",
       "      <td>0</td>\n",
       "      <td>0</td>\n",
       "      <td>0</td>\n",
       "      <td>0</td>\n",
       "      <td>0</td>\n",
       "      <td>0</td>\n",
       "      <td>0</td>\n",
       "      <td>0</td>\n",
       "      <td>1</td>\n",
       "    </tr>\n",
       "    <tr>\n",
       "      <th>63325</th>\n",
       "      <td>0</td>\n",
       "      <td>0</td>\n",
       "      <td>1</td>\n",
       "      <td>22</td>\n",
       "      <td>26.0</td>\n",
       "      <td>9.10</td>\n",
       "      <td>35</td>\n",
       "      <td>0</td>\n",
       "      <td>0</td>\n",
       "      <td>1</td>\n",
       "      <td>...</td>\n",
       "      <td>0</td>\n",
       "      <td>0</td>\n",
       "      <td>0</td>\n",
       "      <td>0</td>\n",
       "      <td>0</td>\n",
       "      <td>0</td>\n",
       "      <td>0</td>\n",
       "      <td>0</td>\n",
       "      <td>0</td>\n",
       "      <td>0</td>\n",
       "    </tr>\n",
       "  </tbody>\n",
       "</table>\n",
       "<p>63326 rows × 31 columns</p>\n",
       "</div>"
      ],
      "text/plain": [
       "       Claim  Agency Type  Distribution Channel  Duration  Net Sales  \\\n",
       "0          0            1                     0       186      -29.0   \n",
       "1          0            1                     0       186      -29.0   \n",
       "2          0            1                     1        65      -49.5   \n",
       "3          0            1                     1        60      -39.6   \n",
       "4          0            1                     1        79      -19.8   \n",
       "...      ...          ...                   ...       ...        ...   \n",
       "63321      0            0                     1       111       35.0   \n",
       "63322      0            0                     1        58       40.0   \n",
       "63323      0            0                     1         2       18.0   \n",
       "63324      0            0                     1         3       18.0   \n",
       "63325      0            0                     1        22       26.0   \n",
       "\n",
       "       Commision (in value)  Age  Agency_CWT  Agency_EPX  Agency_OTH  ...  \\\n",
       "0                      9.57   81           0           0           1  ...   \n",
       "1                      9.57   71           0           0           1  ...   \n",
       "2                     29.70   32           1           0           0  ...   \n",
       "3                     23.76   32           1           0           0  ...   \n",
       "4                     11.88   41           1           0           0  ...   \n",
       "...                     ...  ...         ...         ...         ...  ...   \n",
       "63321                 12.25   31           0           0           1  ...   \n",
       "63322                 14.00   40           0           0           1  ...   \n",
       "63323                  6.30   57           0           0           1  ...   \n",
       "63324                  6.30   63           0           0           1  ...   \n",
       "63325                  9.10   35           0           0           1  ...   \n",
       "\n",
       "       Destination_KOREA, REPUBLIC OF  Destination_MALAYSIA  \\\n",
       "0                                   0                     1   \n",
       "1                                   0                     1   \n",
       "2                                   0                     0   \n",
       "3                                   0                     0   \n",
       "4                                   0                     0   \n",
       "...                               ...                   ...   \n",
       "63321                               0                     0   \n",
       "63322                               0                     0   \n",
       "63323                               0                     1   \n",
       "63324                               0                     0   \n",
       "63325                               0                     0   \n",
       "\n",
       "       Destination_OTHER  Destination_PHILIPPINES  Destination_SINGAPORE  \\\n",
       "0                      0                        0                      0   \n",
       "1                      0                        0                      0   \n",
       "2                      0                        0                      0   \n",
       "3                      0                        0                      0   \n",
       "4                      1                        0                      0   \n",
       "...                  ...                      ...                    ...   \n",
       "63321                  0                        0                      0   \n",
       "63322                  0                        0                      0   \n",
       "63323                  0                        0                      0   \n",
       "63324                  0                        0                      0   \n",
       "63325                  0                        0                      0   \n",
       "\n",
       "       Destination_TAIWAN, PROVINCE OF CHINA  Destination_THAILAND  \\\n",
       "0                                          0                     0   \n",
       "1                                          0                     0   \n",
       "2                                          0                     0   \n",
       "3                                          0                     0   \n",
       "4                                          0                     0   \n",
       "...                                      ...                   ...   \n",
       "63321                                      0                     0   \n",
       "63322                                      0                     0   \n",
       "63323                                      0                     0   \n",
       "63324                                      0                     0   \n",
       "63325                                      0                     0   \n",
       "\n",
       "       Destination_UNITED KINGDOM  Destination_UNITED STATES  \\\n",
       "0                               0                          0   \n",
       "1                               0                          0   \n",
       "2                               0                          0   \n",
       "3                               0                          0   \n",
       "4                               0                          0   \n",
       "...                           ...                        ...   \n",
       "63321                           0                          0   \n",
       "63322                           0                          0   \n",
       "63323                           0                          0   \n",
       "63324                           0                          0   \n",
       "63325                           0                          0   \n",
       "\n",
       "       Destination_VIET NAM  \n",
       "0                         0  \n",
       "1                         0  \n",
       "2                         0  \n",
       "3                         0  \n",
       "4                         0  \n",
       "...                     ...  \n",
       "63321                     0  \n",
       "63322                     0  \n",
       "63323                     0  \n",
       "63324                     1  \n",
       "63325                     0  \n",
       "\n",
       "[63326 rows x 31 columns]"
      ]
     },
     "execution_count": 138,
     "metadata": {},
     "output_type": "execute_result"
    }
   ],
   "source": [
    "df"
   ]
  },
  {
   "cell_type": "markdown",
   "id": "b8ec6209",
   "metadata": {},
   "source": [
    "### Splitting the dataset into X,y"
   ]
  },
  {
   "cell_type": "code",
   "execution_count": 139,
   "id": "a10661fc",
   "metadata": {},
   "outputs": [],
   "source": [
    "X=df.iloc[:,1:]                                              #-1 means index of last column\n",
    "y=df.iloc[:,0]"
   ]
  },
  {
   "cell_type": "markdown",
   "id": "0b63120e",
   "metadata": {},
   "source": [
    "## Handling Imbalanced Data"
   ]
  },
  {
   "cell_type": "markdown",
   "id": "0ebdb52c",
   "metadata": {},
   "source": [
    "### Undersampling"
   ]
  },
  {
   "cell_type": "code",
   "execution_count": 140,
   "id": "60858056",
   "metadata": {},
   "outputs": [
    {
     "name": "stdout",
     "output_type": "stream",
     "text": [
      "0.9.0\n"
     ]
    }
   ],
   "source": [
    "# check version number\n",
    "import imblearn\n",
    "print(imblearn.__version__)"
   ]
  },
  {
   "cell_type": "markdown",
   "id": "89e7e7a3",
   "metadata": {},
   "source": [
    "NearMiss-1 selects examples from the majority class that have the smallest average distance to the three closest examples from the minority class. \n",
    "\n",
    "NearMiss-2 selects examples from the majority class that have the smallest average distance to the three furthest examples from the minority class. \n",
    "\n",
    "NearMiss-3 involves selecting a given number of majority class examples for each example in the minority class that are closest."
   ]
  },
  {
   "cell_type": "markdown",
   "id": "2415b635",
   "metadata": {},
   "source": [
    "#### NearMiss-1"
   ]
  },
  {
   "cell_type": "code",
   "execution_count": 141,
   "id": "90778d90",
   "metadata": {},
   "outputs": [],
   "source": [
    "from imblearn.under_sampling import NearMiss\n",
    "\n",
    "# define the undersampling method\n",
    "undersample = NearMiss(version=1, n_neighbors=3)\n",
    "\n",
    "# transform the dataset\n",
    "X_u1, y_u1 = undersample.fit_resample(X, y)"
   ]
  },
  {
   "cell_type": "code",
   "execution_count": 142,
   "id": "6f8e574b",
   "metadata": {},
   "outputs": [
    {
     "data": {
      "text/plain": [
       "(1854, 30)"
      ]
     },
     "execution_count": 142,
     "metadata": {},
     "output_type": "execute_result"
    }
   ],
   "source": [
    "X_u1.shape"
   ]
  },
  {
   "cell_type": "code",
   "execution_count": 143,
   "id": "1fe1c69b",
   "metadata": {},
   "outputs": [
    {
     "data": {
      "text/plain": [
       "(1854,)"
      ]
     },
     "execution_count": 143,
     "metadata": {},
     "output_type": "execute_result"
    }
   ],
   "source": [
    "y_u1.shape"
   ]
  },
  {
   "cell_type": "code",
   "execution_count": 144,
   "id": "d1bb6c75",
   "metadata": {},
   "outputs": [
    {
     "data": {
      "image/png": "[encoded data removed]",
      "text/plain": [
       "<Figure size 432x288 with 1 Axes>"
      ]
     },
     "metadata": {
      "needs_background": "light"
     },
     "output_type": "display_data"
    }
   ],
   "source": [
    "# Countplot for target variable\n",
    "fig = sns.countplot(x = y_u1)"
   ]
  },
  {
   "cell_type": "code",
   "execution_count": 145,
   "id": "4e8b9699",
   "metadata": {},
   "outputs": [],
   "source": [
    "#y_train_u1 = y_train_u1.values.reshape(-1,1)"
   ]
  },
  {
   "cell_type": "code",
   "execution_count": 146,
   "id": "251be7a2",
   "metadata": {},
   "outputs": [
    {
     "data": {
      "text/plain": [
       "(1854,)"
      ]
     },
     "execution_count": 146,
     "metadata": {},
     "output_type": "execute_result"
    }
   ],
   "source": [
    "y_u1.shape"
   ]
  },
  {
   "cell_type": "markdown",
   "id": "ad4cd6df",
   "metadata": {},
   "source": [
    "#### NearMiss-2"
   ]
  },
  {
   "cell_type": "code",
   "execution_count": 147,
   "id": "8a4ea8ef",
   "metadata": {},
   "outputs": [
    {
     "data": {
      "text/html": [
       "<div>\n",
       "<style scoped>\n",
       "    .dataframe tbody tr th:only-of-type {\n",
       "        vertical-align: middle;\n",
       "    }\n",
       "\n",
       "    .dataframe tbody tr th {\n",
       "        vertical-align: top;\n",
       "    }\n",
       "\n",
       "    .dataframe thead th {\n",
       "        text-align: right;\n",
       "    }\n",
       "</style>\n",
       "<table border=\"1\" class=\"dataframe\">\n",
       "  <thead>\n",
       "    <tr style=\"text-align: right;\">\n",
       "      <th></th>\n",
       "      <th>Agency Type</th>\n",
       "      <th>Distribution Channel</th>\n",
       "      <th>Duration</th>\n",
       "      <th>Net Sales</th>\n",
       "      <th>Commision (in value)</th>\n",
       "      <th>Age</th>\n",
       "      <th>Agency_CWT</th>\n",
       "      <th>Agency_EPX</th>\n",
       "      <th>Agency_OTH</th>\n",
       "      <th>Product Name_2 way Comprehensive Plan</th>\n",
       "      <th>...</th>\n",
       "      <th>Destination_KOREA, REPUBLIC OF</th>\n",
       "      <th>Destination_MALAYSIA</th>\n",
       "      <th>Destination_OTHER</th>\n",
       "      <th>Destination_PHILIPPINES</th>\n",
       "      <th>Destination_SINGAPORE</th>\n",
       "      <th>Destination_TAIWAN, PROVINCE OF CHINA</th>\n",
       "      <th>Destination_THAILAND</th>\n",
       "      <th>Destination_UNITED KINGDOM</th>\n",
       "      <th>Destination_UNITED STATES</th>\n",
       "      <th>Destination_VIET NAM</th>\n",
       "    </tr>\n",
       "  </thead>\n",
       "  <tbody>\n",
       "    <tr>\n",
       "      <th>0</th>\n",
       "      <td>1</td>\n",
       "      <td>0</td>\n",
       "      <td>186</td>\n",
       "      <td>-29.0</td>\n",
       "      <td>9.57</td>\n",
       "      <td>81</td>\n",
       "      <td>0</td>\n",
       "      <td>0</td>\n",
       "      <td>1</td>\n",
       "      <td>0</td>\n",
       "      <td>...</td>\n",
       "      <td>0</td>\n",
       "      <td>1</td>\n",
       "      <td>0</td>\n",
       "      <td>0</td>\n",
       "      <td>0</td>\n",
       "      <td>0</td>\n",
       "      <td>0</td>\n",
       "      <td>0</td>\n",
       "      <td>0</td>\n",
       "      <td>0</td>\n",
       "    </tr>\n",
       "    <tr>\n",
       "      <th>1</th>\n",
       "      <td>1</td>\n",
       "      <td>0</td>\n",
       "      <td>186</td>\n",
       "      <td>-29.0</td>\n",
       "      <td>9.57</td>\n",
       "      <td>71</td>\n",
       "      <td>0</td>\n",
       "      <td>0</td>\n",
       "      <td>1</td>\n",
       "      <td>0</td>\n",
       "      <td>...</td>\n",
       "      <td>0</td>\n",
       "      <td>1</td>\n",
       "      <td>0</td>\n",
       "      <td>0</td>\n",
       "      <td>0</td>\n",
       "      <td>0</td>\n",
       "      <td>0</td>\n",
       "      <td>0</td>\n",
       "      <td>0</td>\n",
       "      <td>0</td>\n",
       "    </tr>\n",
       "    <tr>\n",
       "      <th>2</th>\n",
       "      <td>1</td>\n",
       "      <td>1</td>\n",
       "      <td>65</td>\n",
       "      <td>-49.5</td>\n",
       "      <td>29.70</td>\n",
       "      <td>32</td>\n",
       "      <td>1</td>\n",
       "      <td>0</td>\n",
       "      <td>0</td>\n",
       "      <td>0</td>\n",
       "      <td>...</td>\n",
       "      <td>0</td>\n",
       "      <td>0</td>\n",
       "      <td>0</td>\n",
       "      <td>0</td>\n",
       "      <td>0</td>\n",
       "      <td>0</td>\n",
       "      <td>0</td>\n",
       "      <td>0</td>\n",
       "      <td>0</td>\n",
       "      <td>0</td>\n",
       "    </tr>\n",
       "    <tr>\n",
       "      <th>3</th>\n",
       "      <td>1</td>\n",
       "      <td>1</td>\n",
       "      <td>60</td>\n",
       "      <td>-39.6</td>\n",
       "      <td>23.76</td>\n",
       "      <td>32</td>\n",
       "      <td>1</td>\n",
       "      <td>0</td>\n",
       "      <td>0</td>\n",
       "      <td>0</td>\n",
       "      <td>...</td>\n",
       "      <td>0</td>\n",
       "      <td>0</td>\n",
       "      <td>0</td>\n",
       "      <td>0</td>\n",
       "      <td>0</td>\n",
       "      <td>0</td>\n",
       "      <td>0</td>\n",
       "      <td>0</td>\n",
       "      <td>0</td>\n",
       "      <td>0</td>\n",
       "    </tr>\n",
       "    <tr>\n",
       "      <th>4</th>\n",
       "      <td>1</td>\n",
       "      <td>1</td>\n",
       "      <td>79</td>\n",
       "      <td>-19.8</td>\n",
       "      <td>11.88</td>\n",
       "      <td>41</td>\n",
       "      <td>1</td>\n",
       "      <td>0</td>\n",
       "      <td>0</td>\n",
       "      <td>0</td>\n",
       "      <td>...</td>\n",
       "      <td>0</td>\n",
       "      <td>0</td>\n",
       "      <td>1</td>\n",
       "      <td>0</td>\n",
       "      <td>0</td>\n",
       "      <td>0</td>\n",
       "      <td>0</td>\n",
       "      <td>0</td>\n",
       "      <td>0</td>\n",
       "      <td>0</td>\n",
       "    </tr>\n",
       "    <tr>\n",
       "      <th>...</th>\n",
       "      <td>...</td>\n",
       "      <td>...</td>\n",
       "      <td>...</td>\n",
       "      <td>...</td>\n",
       "      <td>...</td>\n",
       "      <td>...</td>\n",
       "      <td>...</td>\n",
       "      <td>...</td>\n",
       "      <td>...</td>\n",
       "      <td>...</td>\n",
       "      <td>...</td>\n",
       "      <td>...</td>\n",
       "      <td>...</td>\n",
       "      <td>...</td>\n",
       "      <td>...</td>\n",
       "      <td>...</td>\n",
       "      <td>...</td>\n",
       "      <td>...</td>\n",
       "      <td>...</td>\n",
       "      <td>...</td>\n",
       "      <td>...</td>\n",
       "    </tr>\n",
       "    <tr>\n",
       "      <th>63321</th>\n",
       "      <td>0</td>\n",
       "      <td>1</td>\n",
       "      <td>111</td>\n",
       "      <td>35.0</td>\n",
       "      <td>12.25</td>\n",
       "      <td>31</td>\n",
       "      <td>0</td>\n",
       "      <td>0</td>\n",
       "      <td>1</td>\n",
       "      <td>0</td>\n",
       "      <td>...</td>\n",
       "      <td>0</td>\n",
       "      <td>0</td>\n",
       "      <td>0</td>\n",
       "      <td>0</td>\n",
       "      <td>0</td>\n",
       "      <td>0</td>\n",
       "      <td>0</td>\n",
       "      <td>0</td>\n",
       "      <td>0</td>\n",
       "      <td>0</td>\n",
       "    </tr>\n",
       "    <tr>\n",
       "      <th>63322</th>\n",
       "      <td>0</td>\n",
       "      <td>1</td>\n",
       "      <td>58</td>\n",
       "      <td>40.0</td>\n",
       "      <td>14.00</td>\n",
       "      <td>40</td>\n",
       "      <td>0</td>\n",
       "      <td>0</td>\n",
       "      <td>1</td>\n",
       "      <td>0</td>\n",
       "      <td>...</td>\n",
       "      <td>0</td>\n",
       "      <td>0</td>\n",
       "      <td>0</td>\n",
       "      <td>0</td>\n",
       "      <td>0</td>\n",
       "      <td>0</td>\n",
       "      <td>0</td>\n",
       "      <td>0</td>\n",
       "      <td>0</td>\n",
       "      <td>0</td>\n",
       "    </tr>\n",
       "    <tr>\n",
       "      <th>63323</th>\n",
       "      <td>0</td>\n",
       "      <td>1</td>\n",
       "      <td>2</td>\n",
       "      <td>18.0</td>\n",
       "      <td>6.30</td>\n",
       "      <td>57</td>\n",
       "      <td>0</td>\n",
       "      <td>0</td>\n",
       "      <td>1</td>\n",
       "      <td>0</td>\n",
       "      <td>...</td>\n",
       "      <td>0</td>\n",
       "      <td>1</td>\n",
       "      <td>0</td>\n",
       "      <td>0</td>\n",
       "      <td>0</td>\n",
       "      <td>0</td>\n",
       "      <td>0</td>\n",
       "      <td>0</td>\n",
       "      <td>0</td>\n",
       "      <td>0</td>\n",
       "    </tr>\n",
       "    <tr>\n",
       "      <th>63324</th>\n",
       "      <td>0</td>\n",
       "      <td>1</td>\n",
       "      <td>3</td>\n",
       "      <td>18.0</td>\n",
       "      <td>6.30</td>\n",
       "      <td>63</td>\n",
       "      <td>0</td>\n",
       "      <td>0</td>\n",
       "      <td>1</td>\n",
       "      <td>0</td>\n",
       "      <td>...</td>\n",
       "      <td>0</td>\n",
       "      <td>0</td>\n",
       "      <td>0</td>\n",
       "      <td>0</td>\n",
       "      <td>0</td>\n",
       "      <td>0</td>\n",
       "      <td>0</td>\n",
       "      <td>0</td>\n",
       "      <td>0</td>\n",
       "      <td>1</td>\n",
       "    </tr>\n",
       "    <tr>\n",
       "      <th>63325</th>\n",
       "      <td>0</td>\n",
       "      <td>1</td>\n",
       "      <td>22</td>\n",
       "      <td>26.0</td>\n",
       "      <td>9.10</td>\n",
       "      <td>35</td>\n",
       "      <td>0</td>\n",
       "      <td>0</td>\n",
       "      <td>1</td>\n",
       "      <td>0</td>\n",
       "      <td>...</td>\n",
       "      <td>0</td>\n",
       "      <td>0</td>\n",
       "      <td>0</td>\n",
       "      <td>0</td>\n",
       "      <td>0</td>\n",
       "      <td>0</td>\n",
       "      <td>0</td>\n",
       "      <td>0</td>\n",
       "      <td>0</td>\n",
       "      <td>0</td>\n",
       "    </tr>\n",
       "  </tbody>\n",
       "</table>\n",
       "<p>63326 rows × 30 columns</p>\n",
       "</div>"
      ],
      "text/plain": [
       "       Agency Type  Distribution Channel  Duration  Net Sales  \\\n",
       "0                1                     0       186      -29.0   \n",
       "1                1                     0       186      -29.0   \n",
       "2                1                     1        65      -49.5   \n",
       "3                1                     1        60      -39.6   \n",
       "4                1                     1        79      -19.8   \n",
       "...            ...                   ...       ...        ...   \n",
       "63321            0                     1       111       35.0   \n",
       "63322            0                     1        58       40.0   \n",
       "63323            0                     1         2       18.0   \n",
       "63324            0                     1         3       18.0   \n",
       "63325            0                     1        22       26.0   \n",
       "\n",
       "       Commision (in value)  Age  Agency_CWT  Agency_EPX  Agency_OTH  \\\n",
       "0                      9.57   81           0           0           1   \n",
       "1                      9.57   71           0           0           1   \n",
       "2                     29.70   32           1           0           0   \n",
       "3                     23.76   32           1           0           0   \n",
       "4                     11.88   41           1           0           0   \n",
       "...                     ...  ...         ...         ...         ...   \n",
       "63321                 12.25   31           0           0           1   \n",
       "63322                 14.00   40           0           0           1   \n",
       "63323                  6.30   57           0           0           1   \n",
       "63324                  6.30   63           0           0           1   \n",
       "63325                  9.10   35           0           0           1   \n",
       "\n",
       "       Product Name_2 way Comprehensive Plan  ...  \\\n",
       "0                                          0  ...   \n",
       "1                                          0  ...   \n",
       "2                                          0  ...   \n",
       "3                                          0  ...   \n",
       "4                                          0  ...   \n",
       "...                                      ...  ...   \n",
       "63321                                      0  ...   \n",
       "63322                                      0  ...   \n",
       "63323                                      0  ...   \n",
       "63324                                      0  ...   \n",
       "63325                                      0  ...   \n",
       "\n",
       "       Destination_KOREA, REPUBLIC OF  Destination_MALAYSIA  \\\n",
       "0                                   0                     1   \n",
       "1                                   0                     1   \n",
       "2                                   0                     0   \n",
       "3                                   0                     0   \n",
       "4                                   0                     0   \n",
       "...                               ...                   ...   \n",
       "63321                               0                     0   \n",
       "63322                               0                     0   \n",
       "63323                               0                     1   \n",
       "63324                               0                     0   \n",
       "63325                               0                     0   \n",
       "\n",
       "       Destination_OTHER  Destination_PHILIPPINES  Destination_SINGAPORE  \\\n",
       "0                      0                        0                      0   \n",
       "1                      0                        0                      0   \n",
       "2                      0                        0                      0   \n",
       "3                      0                        0                      0   \n",
       "4                      1                        0                      0   \n",
       "...                  ...                      ...                    ...   \n",
       "63321                  0                        0                      0   \n",
       "63322                  0                        0                      0   \n",
       "63323                  0                        0                      0   \n",
       "63324                  0                        0                      0   \n",
       "63325                  0                        0                      0   \n",
       "\n",
       "       Destination_TAIWAN, PROVINCE OF CHINA  Destination_THAILAND  \\\n",
       "0                                          0                     0   \n",
       "1                                          0                     0   \n",
       "2                                          0                     0   \n",
       "3                                          0                     0   \n",
       "4                                          0                     0   \n",
       "...                                      ...                   ...   \n",
       "63321                                      0                     0   \n",
       "63322                                      0                     0   \n",
       "63323                                      0                     0   \n",
       "63324                                      0                     0   \n",
       "63325                                      0                     0   \n",
       "\n",
       "       Destination_UNITED KINGDOM  Destination_UNITED STATES  \\\n",
       "0                               0                          0   \n",
       "1                               0                          0   \n",
       "2                               0                          0   \n",
       "3                               0                          0   \n",
       "4                               0                          0   \n",
       "...                           ...                        ...   \n",
       "63321                           0                          0   \n",
       "63322                           0                          0   \n",
       "63323                           0                          0   \n",
       "63324                           0                          0   \n",
       "63325                           0                          0   \n",
       "\n",
       "       Destination_VIET NAM  \n",
       "0                         0  \n",
       "1                         0  \n",
       "2                         0  \n",
       "3                         0  \n",
       "4                         0  \n",
       "...                     ...  \n",
       "63321                     0  \n",
       "63322                     0  \n",
       "63323                     0  \n",
       "63324                     1  \n",
       "63325                     0  \n",
       "\n",
       "[63326 rows x 30 columns]"
      ]
     },
     "execution_count": 147,
     "metadata": {},
     "output_type": "execute_result"
    }
   ],
   "source": [
    "X"
   ]
  },
  {
   "cell_type": "code",
   "execution_count": 148,
   "id": "81c8cd46",
   "metadata": {},
   "outputs": [],
   "source": [
    "# define the undersampling method\n",
    "undersample = NearMiss(version=2, n_neighbors=3)\n",
    "\n",
    "# transform the dataset\n",
    "X_u2, y_u2 = undersample.fit_resample(X, y)"
   ]
  },
  {
   "cell_type": "code",
   "execution_count": 149,
   "id": "57220630",
   "metadata": {},
   "outputs": [
    {
     "data": {
      "image/png": "[encoded data removed]",
      "text/plain": [
       "<Figure size 432x288 with 1 Axes>"
      ]
     },
     "metadata": {
      "needs_background": "light"
     },
     "output_type": "display_data"
    }
   ],
   "source": [
    "# Countplot for target variable\n",
    "fig = sns.countplot(x = y_u2)"
   ]
  },
  {
   "cell_type": "code",
   "execution_count": 150,
   "id": "50b551c6",
   "metadata": {},
   "outputs": [],
   "source": [
    "#y_u2 = y_u2.values.reshape(-1,1)"
   ]
  },
  {
   "cell_type": "code",
   "execution_count": 151,
   "id": "4df3fa51",
   "metadata": {},
   "outputs": [
    {
     "data": {
      "text/plain": [
       "0       0\n",
       "1       0\n",
       "2       0\n",
       "3       0\n",
       "4       0\n",
       "       ..\n",
       "1849    1\n",
       "1850    1\n",
       "1851    1\n",
       "1852    1\n",
       "1853    1\n",
       "Name: Claim, Length: 1854, dtype: int32"
      ]
     },
     "execution_count": 151,
     "metadata": {},
     "output_type": "execute_result"
    }
   ],
   "source": [
    "y_u2"
   ]
  },
  {
   "cell_type": "markdown",
   "id": "ef542c76",
   "metadata": {},
   "source": [
    "#### NearMiss-3"
   ]
  },
  {
   "cell_type": "code",
   "execution_count": 152,
   "id": "6661a3c7",
   "metadata": {},
   "outputs": [],
   "source": [
    "# define the undersampling method\n",
    "undersample = NearMiss(version=3, n_neighbors=3)\n",
    "\n",
    "# transform the dataset\n",
    "X_u3, y_u3 = undersample.fit_resample(X, y)"
   ]
  },
  {
   "cell_type": "code",
   "execution_count": 153,
   "id": "7aaf2546",
   "metadata": {},
   "outputs": [
    {
     "data": {
      "image/png": "[encoded data removed]",
      "text/plain": [
       "<Figure size 432x288 with 1 Axes>"
      ]
     },
     "metadata": {
      "needs_background": "light"
     },
     "output_type": "display_data"
    }
   ],
   "source": [
    "# Countplot for target variable\n",
    "fig = sns.countplot(x = y_u3)"
   ]
  },
  {
   "cell_type": "code",
   "execution_count": 154,
   "id": "328c100e",
   "metadata": {},
   "outputs": [],
   "source": [
    "#y_train_u3 = y_train_u3.values.reshape(-1,1)"
   ]
  },
  {
   "cell_type": "markdown",
   "id": "739b60c5",
   "metadata": {},
   "source": [
    "#### Random Undersampling"
   ]
  },
  {
   "cell_type": "code",
   "execution_count": 155,
   "id": "e1af5bd5",
   "metadata": {},
   "outputs": [
    {
     "name": "stdout",
     "output_type": "stream",
     "text": [
      "original dataset shape: (63326,)\n",
      "Resample dataset shape (1854,)\n"
     ]
    }
   ],
   "source": [
    "# import library\n",
    "from imblearn.under_sampling import RandomUnderSampler\n",
    "\n",
    "rus = RandomUnderSampler(random_state=42, replacement=True)# fit predictor and target variable\n",
    "X_rus, y_rus = rus.fit_resample(X, y)\n",
    "\n",
    "print('original dataset shape:', y.shape)\n",
    "print('Resample dataset shape', y_rus.shape)"
   ]
  },
  {
   "cell_type": "code",
   "execution_count": 156,
   "id": "32cefd22",
   "metadata": {},
   "outputs": [
    {
     "data": {
      "image/png": "[encoded data removed]",
      "text/plain": [
       "<Figure size 432x288 with 1 Axes>"
      ]
     },
     "metadata": {
      "needs_background": "light"
     },
     "output_type": "display_data"
    }
   ],
   "source": [
    "# Countplot for target variable\n",
    "fig = sns.countplot(x = y_rus)"
   ]
  },
  {
   "cell_type": "code",
   "execution_count": 157,
   "id": "0590ad01",
   "metadata": {},
   "outputs": [],
   "source": [
    "#y_train_rus = y_train_rus.values.reshape(-1,1)"
   ]
  },
  {
   "cell_type": "markdown",
   "id": "1ea8eccd",
   "metadata": {},
   "source": [
    "### Oversampling"
   ]
  },
  {
   "cell_type": "markdown",
   "id": "94ccb791",
   "metadata": {},
   "source": [
    "#### Random Oversampling"
   ]
  },
  {
   "cell_type": "code",
   "execution_count": 158,
   "id": "3863e1cf",
   "metadata": {},
   "outputs": [
    {
     "name": "stdout",
     "output_type": "stream",
     "text": [
      "original dataset shape: (63326,)\n",
      "Resample dataset shape (124798,)\n"
     ]
    }
   ],
   "source": [
    "# import library\n",
    "from imblearn.over_sampling import RandomOverSampler\n",
    "\n",
    "ros = RandomOverSampler(random_state=42)\n",
    "\n",
    "# fit predictor and target variablex_ros, y_ros = ros.fit_resample(x, y)\n",
    "X_ros, y_ros = ros.fit_resample(X, y)\n",
    "\n",
    "print('original dataset shape:', y.shape)\n",
    "print('Resample dataset shape', y_ros.shape)"
   ]
  },
  {
   "cell_type": "markdown",
   "id": "71bad8f2",
   "metadata": {},
   "source": [
    "#### SMOTE"
   ]
  },
  {
   "cell_type": "code",
   "execution_count": 159,
   "id": "14c11fbc",
   "metadata": {},
   "outputs": [
    {
     "name": "stdout",
     "output_type": "stream",
     "text": [
      "original dataset shape: (63326,)\n",
      "Resample dataset shape (124798,)\n"
     ]
    }
   ],
   "source": [
    "from imblearn.over_sampling import SMOTE\n",
    "\n",
    "smote = SMOTE()\n",
    "\n",
    "# fit predictor and target variable\n",
    "X_smote, y_smote = smote.fit_resample(X, y)\n",
    "\n",
    "print('original dataset shape:', y.shape)\n",
    "print('Resample dataset shape', y_smote.shape)"
   ]
  },
  {
   "cell_type": "code",
   "execution_count": 160,
   "id": "460fc54b",
   "metadata": {},
   "outputs": [
    {
     "data": {
      "image/png": "[encoded data removed]",
      "text/plain": [
       "<Figure size 432x288 with 1 Axes>"
      ]
     },
     "metadata": {
      "needs_background": "light"
     },
     "output_type": "display_data"
    }
   ],
   "source": [
    "# Countplot for target variable\n",
    "fig = sns.countplot(x = y_smote)"
   ]
  },
  {
   "cell_type": "markdown",
   "id": "db630e3b",
   "metadata": {},
   "source": [
    "### SMOTEENN"
   ]
  },
  {
   "cell_type": "code",
   "execution_count": 88,
   "id": "5c9725f5",
   "metadata": {},
   "outputs": [],
   "source": [
    "from imblearn.combine import SMOTEENN\n",
    "\n",
    "sm = SMOTEENN()\n",
    "\n",
    "X_resampled, y_resampled = sm.fit_resample(X,y)"
   ]
  },
  {
   "cell_type": "code",
   "execution_count": 161,
   "id": "75de621e",
   "metadata": {},
   "outputs": [
    {
     "data": {
      "image/png": "[encoded data removed]",
      "text/plain": [
       "<Figure size 432x288 with 1 Axes>"
      ]
     },
     "metadata": {
      "needs_background": "light"
     },
     "output_type": "display_data"
    }
   ],
   "source": [
    "# Countplot for target variable\n",
    "fig = sns.countplot(x = y_resampled)"
   ]
  },
  {
   "cell_type": "markdown",
   "id": "07e50f93",
   "metadata": {},
   "source": [
    "## Store"
   ]
  },
  {
   "cell_type": "code",
   "execution_count": 162,
   "id": "3c2dd410",
   "metadata": {},
   "outputs": [],
   "source": [
    "df_og = X.copy()\n",
    "df_og['Claim'] = y\n",
    "\n",
    "df_nm1 = X_u1.copy()\n",
    "df_nm1['Claim'] = y_u1\n",
    "\n",
    "df_nm2 = X_u2.copy()\n",
    "df_nm2['Claim'] = y_u2\n",
    "\n",
    "df_nm3 = X_u3.copy()\n",
    "df_nm3['Claim'] = y_u3\n",
    "\n",
    "df_rus = X_rus.copy()\n",
    "df_rus['Claim'] = y_rus\n",
    "\n",
    "df_ros = X_ros.copy()\n",
    "df_ros['Claim'] = y_ros\n",
    "\n",
    "df_smote = X_smote.copy()\n",
    "df_smote['Claim'] = y_smote\n",
    "\n",
    "df_smoteen = X_resampled.copy()\n",
    "df_smoteen['Claim'] = y_resampled"
   ]
  },
  {
   "cell_type": "code",
   "execution_count": 163,
   "id": "5fec58ba",
   "metadata": {},
   "outputs": [],
   "source": [
    "from pathlib import Path\n",
    "filepath = Path('Data/data_og.csv')  \n",
    "df_og.to_csv(index=False, path_or_buf=filepath)  \n",
    "\n",
    "filepath = Path('Data/data_nm1.csv')  \n",
    "df_nm1.to_csv(index=False, path_or_buf=filepath) \n",
    "\n",
    "filepath = Path('Data/data_nm2.csv')  \n",
    "df_nm2.to_csv(index=False, path_or_buf=filepath) \n",
    "\n",
    "filepath = Path('Data/data_nm3.csv')  \n",
    "df_nm3.to_csv(index=False, path_or_buf=filepath) \n",
    "\n",
    "filepath = Path('Data/data_ros.csv')  \n",
    "df_ros.to_csv(index=False, path_or_buf=filepath) \n",
    "\n",
    "filepath = Path('Data/data_rus.csv')  \n",
    "df_rus.to_csv(index=False, path_or_buf=filepath) \n",
    "\n",
    "filepath = Path('Data/data_smote.csv')  \n",
    "df_smote.to_csv(index=False, path_or_buf=filepath) \n",
    "\n",
    "filepath = Path('Data/data_smoteen.csv')  \n",
    "df_smoteen.to_csv(index=False, path_or_buf=filepath) "
   ]
  }
 ],
 "metadata": {
  "kernelspec": {
   "display_name": "Python 3 (ipykernel)",
   "language": "python",
   "name": "python3"
  },
  "language_info": {
   "codemirror_mode": {
    "name": "ipython",
    "version": 3
   },
   "file_extension": ".py",
   "mimetype": "text/x-python",
   "name": "python",
   "nbconvert_exporter": "python",
   "pygments_lexer": "ipython3",
   "version": "3.9.7"
  }
 },
 "nbformat": 4,
 "nbformat_minor": 5
}
